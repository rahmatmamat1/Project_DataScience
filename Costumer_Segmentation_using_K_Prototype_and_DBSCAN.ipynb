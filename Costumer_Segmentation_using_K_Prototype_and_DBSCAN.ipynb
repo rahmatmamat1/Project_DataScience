{
  "nbformat": 4,
  "nbformat_minor": 0,
  "metadata": {
    "colab": {
      "name": "Citiasia_Costumer Segmentation using K-Prototype and DBSCAN.ipynb",
      "provenance": [],
      "collapsed_sections": []
    },
    "kernelspec": {
      "name": "python3",
      "display_name": "Python 3"
    },
    "accelerator": "GPU"
  },
  "cells": [
    {
      "cell_type": "code",
      "metadata": {
        "colab": {
          "base_uri": "https://localhost:8080/"
        },
        "id": "UIk5TYJiRmY1",
        "outputId": "12f6e4be-d5d5-448e-fa3c-f2d28f887b30"
      },
      "source": [
        "!pip install kmodes"
      ],
      "execution_count": null,
      "outputs": [
        {
          "output_type": "stream",
          "name": "stdout",
          "text": [
            "Collecting kmodes\n",
            "  Downloading kmodes-0.11.1-py2.py3-none-any.whl (19 kB)\n",
            "Requirement already satisfied: scikit-learn>=0.22.0 in /usr/local/lib/python3.7/dist-packages (from kmodes) (0.22.2.post1)\n",
            "Requirement already satisfied: joblib>=0.11 in /usr/local/lib/python3.7/dist-packages (from kmodes) (1.0.1)\n",
            "Requirement already satisfied: scipy>=0.13.3 in /usr/local/lib/python3.7/dist-packages (from kmodes) (1.4.1)\n",
            "Requirement already satisfied: numpy>=1.10.4 in /usr/local/lib/python3.7/dist-packages (from kmodes) (1.19.5)\n",
            "Installing collected packages: kmodes\n",
            "Successfully installed kmodes-0.11.1\n"
          ]
        }
      ]
    },
    {
      "cell_type": "code",
      "metadata": {
        "id": "cqmdqJobRDT3"
      },
      "source": [
        "import pandas as pd  \n",
        "import matplotlib.pyplot as plt  \n",
        "import seaborn as sns\n",
        "import numpy as np\n",
        "from scipy import stats  \n",
        "from sklearn.preprocessing import LabelEncoder  \n",
        "  \n",
        "from kmodes.kmodes import KModes  \n",
        "from kmodes.kprototypes import KPrototypes  \n",
        "  \n",
        "import pickle  \n",
        "from pathlib import Path "
      ],
      "execution_count": null,
      "outputs": []
    },
    {
      "cell_type": "code",
      "metadata": {
        "colab": {
          "base_uri": "https://localhost:8080/",
          "height": 204
        },
        "id": "sT2vfqp_L4as",
        "outputId": "21b53b68-53ff-454b-bdd5-dea0aa8f2601"
      },
      "source": [
        "# Import Dataset\n",
        "df = pd.read_csv('http://storage.googleapis.com/dqlab-dataset/customer_segments.txt', sep=\"\\t\")\n",
        "\n",
        "# Menampilkan Data\n",
        "df.head()\n"
      ],
      "execution_count": null,
      "outputs": [
        {
          "output_type": "execute_result",
          "data": {
            "text/html": [
              "<div>\n",
              "<style scoped>\n",
              "    .dataframe tbody tr th:only-of-type {\n",
              "        vertical-align: middle;\n",
              "    }\n",
              "\n",
              "    .dataframe tbody tr th {\n",
              "        vertical-align: top;\n",
              "    }\n",
              "\n",
              "    .dataframe thead th {\n",
              "        text-align: right;\n",
              "    }\n",
              "</style>\n",
              "<table border=\"1\" class=\"dataframe\">\n",
              "  <thead>\n",
              "    <tr style=\"text-align: right;\">\n",
              "      <th></th>\n",
              "      <th>Customer_ID</th>\n",
              "      <th>Nama Pelanggan</th>\n",
              "      <th>Jenis Kelamin</th>\n",
              "      <th>Umur</th>\n",
              "      <th>Profesi</th>\n",
              "      <th>Tipe Residen</th>\n",
              "      <th>NilaiBelanjaSetahun</th>\n",
              "    </tr>\n",
              "  </thead>\n",
              "  <tbody>\n",
              "    <tr>\n",
              "      <th>0</th>\n",
              "      <td>CUST-001</td>\n",
              "      <td>Budi Anggara</td>\n",
              "      <td>Pria</td>\n",
              "      <td>58</td>\n",
              "      <td>Wiraswasta</td>\n",
              "      <td>Sector</td>\n",
              "      <td>9497927</td>\n",
              "    </tr>\n",
              "    <tr>\n",
              "      <th>1</th>\n",
              "      <td>CUST-002</td>\n",
              "      <td>Shirley Ratuwati</td>\n",
              "      <td>Wanita</td>\n",
              "      <td>14</td>\n",
              "      <td>Pelajar</td>\n",
              "      <td>Cluster</td>\n",
              "      <td>2722700</td>\n",
              "    </tr>\n",
              "    <tr>\n",
              "      <th>2</th>\n",
              "      <td>CUST-003</td>\n",
              "      <td>Agus Cahyono</td>\n",
              "      <td>Pria</td>\n",
              "      <td>48</td>\n",
              "      <td>Professional</td>\n",
              "      <td>Cluster</td>\n",
              "      <td>5286429</td>\n",
              "    </tr>\n",
              "    <tr>\n",
              "      <th>3</th>\n",
              "      <td>CUST-004</td>\n",
              "      <td>Antonius Winarta</td>\n",
              "      <td>Pria</td>\n",
              "      <td>53</td>\n",
              "      <td>Professional</td>\n",
              "      <td>Cluster</td>\n",
              "      <td>5204498</td>\n",
              "    </tr>\n",
              "    <tr>\n",
              "      <th>4</th>\n",
              "      <td>CUST-005</td>\n",
              "      <td>Ibu Sri Wahyuni, IR</td>\n",
              "      <td>Wanita</td>\n",
              "      <td>41</td>\n",
              "      <td>Wiraswasta</td>\n",
              "      <td>Cluster</td>\n",
              "      <td>10615206</td>\n",
              "    </tr>\n",
              "  </tbody>\n",
              "</table>\n",
              "</div>"
            ],
            "text/plain": [
              "  Customer_ID       Nama Pelanggan  ... Tipe Residen  NilaiBelanjaSetahun\n",
              "0    CUST-001         Budi Anggara  ...       Sector              9497927\n",
              "1    CUST-002     Shirley Ratuwati  ...      Cluster              2722700\n",
              "2    CUST-003         Agus Cahyono  ...      Cluster              5286429\n",
              "3    CUST-004     Antonius Winarta  ...      Cluster              5204498\n",
              "4    CUST-005  Ibu Sri Wahyuni, IR  ...      Cluster             10615206\n",
              "\n",
              "[5 rows x 7 columns]"
            ]
          },
          "metadata": {},
          "execution_count": 3
        }
      ]
    },
    {
      "cell_type": "code",
      "metadata": {
        "colab": {
          "base_uri": "https://localhost:8080/"
        },
        "id": "jdj82vysMt79",
        "outputId": "4991ef0c-d541-4dae-ebaa-68b41e705ae3"
      },
      "source": [
        "df.info()"
      ],
      "execution_count": null,
      "outputs": [
        {
          "output_type": "stream",
          "name": "stdout",
          "text": [
            "<class 'pandas.core.frame.DataFrame'>\n",
            "RangeIndex: 50 entries, 0 to 49\n",
            "Data columns (total 7 columns):\n",
            " #   Column               Non-Null Count  Dtype \n",
            "---  ------               --------------  ----- \n",
            " 0   Customer_ID          50 non-null     object\n",
            " 1   Nama Pelanggan       50 non-null     object\n",
            " 2   Jenis Kelamin        50 non-null     object\n",
            " 3   Umur                 50 non-null     int64 \n",
            " 4   Profesi              50 non-null     object\n",
            " 5   Tipe Residen         50 non-null     object\n",
            " 6   NilaiBelanjaSetahun  50 non-null     int64 \n",
            "dtypes: int64(2), object(5)\n",
            "memory usage: 2.9+ KB\n"
          ]
        }
      ]
    },
    {
      "cell_type": "markdown",
      "metadata": {
        "id": "JOCQ7XDhTx3J"
      },
      "source": [
        "Setelah melakukan pemanggilan data dan melihat informasi data yang kamu miliki, kamu akhirnya mengetahui bahwa:\n",
        "\n",
        "* Data yang akan digunakan terdiri dari 50 baris dan 7 kolom\n",
        "* Tidak ada nilai Null padat data\n",
        "* Dua kolom memiliki tipe data numeric dan lima data bertipe string"
      ]
    },
    {
      "cell_type": "markdown",
      "metadata": {
        "id": "Gh8uEk8PULec"
      },
      "source": [
        "#**Data Exploration**"
      ]
    },
    {
      "cell_type": "markdown",
      "metadata": {
        "id": "BmGKdo3JXEea"
      },
      "source": [
        "plt.close() will close the figure window entirely, where plt.clf() will just clear the figure - you can still paint another plot onto it."
      ]
    },
    {
      "cell_type": "code",
      "metadata": {
        "id": "rBDbfG1ATxiO",
        "colab": {
          "base_uri": "https://localhost:8080/",
          "height": 1000
        },
        "outputId": "555ae054-9085-4865-bbf4-f155f0fbb993"
      },
      "source": [
        "sns.set(style='white')\n",
        "plt.clf()\n",
        "  \n",
        "# Fungsi untuk membuat plot  \n",
        "def observasi_num(features):  \n",
        "    fig, axs = plt.subplots(2, 2, figsize=(10, 9))\n",
        "    for i, kol in enumerate(features):\n",
        "\t    sns.boxplot(df[kol], ax = axs[i][0])\n",
        "\t    sns.distplot(df[kol], ax = axs[i][1])   \n",
        "\t    axs[i][0].set_title('mean = %.2f\\n median = %.2f\\n std = %.2f'%(df[kol].mean(), df[kol].median(), df[kol].std()))\n",
        "    plt.setp(axs)\n",
        "    plt.tight_layout()\n",
        "    plt.show()  \n",
        "  \n",
        "# Memanggil fungsi untuk membuat Plot untuk data numerik  \n",
        "kolom_numerik = ['Umur','NilaiBelanjaSetahun'] \n",
        "observasi_num(kolom_numerik) "
      ],
      "execution_count": null,
      "outputs": [
        {
          "output_type": "stream",
          "name": "stderr",
          "text": [
            "/usr/local/lib/python3.7/dist-packages/seaborn/_decorators.py:43: FutureWarning: Pass the following variable as a keyword arg: x. From version 0.12, the only valid positional argument will be `data`, and passing other arguments without an explicit keyword will result in an error or misinterpretation.\n",
            "  FutureWarning\n",
            "/usr/local/lib/python3.7/dist-packages/seaborn/distributions.py:2619: FutureWarning: `distplot` is a deprecated function and will be removed in a future version. Please adapt your code to use either `displot` (a figure-level function with similar flexibility) or `histplot` (an axes-level function for histograms).\n",
            "  warnings.warn(msg, FutureWarning)\n",
            "/usr/local/lib/python3.7/dist-packages/seaborn/_decorators.py:43: FutureWarning: Pass the following variable as a keyword arg: x. From version 0.12, the only valid positional argument will be `data`, and passing other arguments without an explicit keyword will result in an error or misinterpretation.\n",
            "  FutureWarning\n",
            "/usr/local/lib/python3.7/dist-packages/seaborn/distributions.py:2619: FutureWarning: `distplot` is a deprecated function and will be removed in a future version. Please adapt your code to use either `displot` (a figure-level function with similar flexibility) or `histplot` (an axes-level function for histograms).\n",
            "  warnings.warn(msg, FutureWarning)\n"
          ]
        },
        {
          "output_type": "stream",
          "name": "stdout",
          "text": [
            "  adjustable: {'box', 'datalim'}\n",
            "  agg_filter: a filter function, which takes a (m, n, 3) float array and a dpi value, and returns a (m, n, 3) array\n",
            "  alpha: float or None\n",
            "  anchor: 2-tuple of floats or {'C', 'SW', 'S', 'SE', ...}\n",
            "  animated: bool\n",
            "  aspect: {'auto', 'equal'} or num\n",
            "  autoscale_on: bool\n",
            "  autoscalex_on: bool\n",
            "  autoscaley_on: bool\n",
            "  axes_locator: Callable[[Axes, Renderer], Bbox]\n",
            "  axisbelow: bool or 'line'\n",
            "  clip_box: `.Bbox`\n",
            "  clip_on: bool\n",
            "  clip_path: Patch or (Path, Transform) or None\n",
            "  contains: callable\n",
            "  facecolor: color\n",
            "  fc: color\n",
            "  figure: `.Figure`\n",
            "  frame_on: bool\n",
            "  gid: str\n",
            "  in_layout: bool\n",
            "  label: object\n",
            "  navigate: bool\n",
            "  navigate_mode: unknown\n",
            "  path_effects: `.AbstractPathEffect`\n",
            "  picker: None or bool or float or callable\n",
            "  position: [left, bottom, width, height] or `~matplotlib.transforms.Bbox`\n",
            "  prop_cycle: unknown\n",
            "  rasterization_zorder: float or None\n",
            "  rasterized: bool or None\n",
            "  sketch_params: (scale: float, length: float, randomness: float)\n",
            "  snap: bool or None\n",
            "  subplotspec: unknown\n",
            "  title: str\n",
            "  transform: `.Transform`\n",
            "  url: str\n",
            "  visible: bool\n",
            "  xbound: unknown\n",
            "  xlabel: str\n",
            "  xlim: (bottom: float, top: float)\n",
            "  xmargin: float greater than -0.5\n",
            "  xscale: {\"linear\", \"log\", \"symlog\", \"logit\", ...}\n",
            "  xticklabels: List[str]\n",
            "  xticks: unknown\n",
            "  ybound: unknown\n",
            "  ylabel: str\n",
            "  ylim: (bottom: float, top: float)\n",
            "  ymargin: float greater than -0.5\n",
            "  yscale: {\"linear\", \"log\", \"symlog\", \"logit\", ...}\n",
            "  yticklabels: List[str]\n",
            "  yticks: unknown\n",
            "  zorder: float\n"
          ]
        },
        {
          "output_type": "display_data",
          "data": {
            "text/plain": [
              "<Figure size 432x288 with 0 Axes>"
            ]
          },
          "metadata": {}
        },
        {
          "output_type": "display_data",
          "data": {
            "image/png": "[encoded data removed]",
            "text/plain": [
              "<Figure size 720x648 with 4 Axes>"
            ]
          },
          "metadata": {}
        }
      ]
    },
    {
      "cell_type": "code",
      "metadata": {
        "id": "I7aZWvfjh-gQ"
      },
      "source": [
        ""
      ],
      "execution_count": null,
      "outputs": []
    },
    {
      "cell_type": "code",
      "metadata": {
        "id": "kqNbE00oNqAl",
        "colab": {
          "base_uri": "https://localhost:8080/",
          "height": 34
        },
        "outputId": "aba946a2-b0b3-4a96-ef38-e5ab64fd524f"
      },
      "source": [
        "sns.set(style = 'white')\n",
        "plt.clf()\n",
        "\n",
        "# Fungsi untuk Membuat Plot\n",
        "def observasi_num(features):\n",
        "  fig, axs = plt.subplots(2, 2, figsize = (10, 9))\n",
        "  for i, kol in enumerate(features):\n",
        "    sns.boxplot"
      ],
      "execution_count": null,
      "outputs": [
        {
          "output_type": "display_data",
          "data": {
            "text/plain": [
              "<Figure size 432x288 with 0 Axes>"
            ]
          },
          "metadata": {}
        }
      ]
    },
    {
      "cell_type": "code",
      "metadata": {
        "colab": {
          "base_uri": "https://localhost:8080/",
          "height": 1000
        },
        "id": "D4sgtky3Y3dk",
        "outputId": "13f820b8-ccfe-4ce7-e54c-76548ee3cee4"
      },
      "source": [
        "# Menyiapkan kolom kategorikal  \n",
        "kolom_kategorikal = ['Jenis Kelamin','Profesi','Tipe Residen']  \n",
        "\n",
        "# Membuat canvas\n",
        "fig, axs = plt.subplots(3,1,figsize=(7,10)) \n",
        "\n",
        "# Membuat plot untuk setiap kolom kategorikal  \n",
        "for i, kol in enumerate(kolom_kategorikal):  \n",
        "    # Membuat Plot\n",
        "    sns.countplot(df[kol], order = df[kol].value_counts().index, ax = axs[i])  \n",
        "    axs[i].set_title('\\nCount Plot %s\\n'%(kol), fontsize=15)  \n",
        "      \n",
        "    # Memberikan anotasi  \n",
        "    for p in axs[i].patches:  \n",
        "        axs[i].annotate(format(p.get_height(), '.0f'),  \n",
        "                        (p.get_x() + p.get_width() / 2., p.get_height()),  \n",
        "                        ha = 'center',  \n",
        "                        va = 'center',  \n",
        "                        xytext = (0, 10),  \n",
        "                        textcoords = 'offset points') \n",
        "          \n",
        "    # Setting Plot  \n",
        "    sns.despine(right=True,top = True, left = True)  \n",
        "    axs[i].axes.yaxis.set_visible(False) \n",
        "    plt.setp(axs)\n",
        "    plt.tight_layout()\n",
        "\n",
        "# Tampilkan plot\n",
        "plt.show()"
      ],
      "execution_count": null,
      "outputs": [
        {
          "output_type": "stream",
          "name": "stderr",
          "text": [
            "/usr/local/lib/python3.7/dist-packages/seaborn/_decorators.py:43: FutureWarning: Pass the following variable as a keyword arg: x. From version 0.12, the only valid positional argument will be `data`, and passing other arguments without an explicit keyword will result in an error or misinterpretation.\n",
            "  FutureWarning\n"
          ]
        },
        {
          "output_type": "stream",
          "name": "stdout",
          "text": [
            "  adjustable: {'box', 'datalim'}\n",
            "  agg_filter: a filter function, which takes a (m, n, 3) float array and a dpi value, and returns a (m, n, 3) array\n",
            "  alpha: float or None\n",
            "  anchor: 2-tuple of floats or {'C', 'SW', 'S', 'SE', ...}\n",
            "  animated: bool\n",
            "  aspect: {'auto', 'equal'} or num\n",
            "  autoscale_on: bool\n",
            "  autoscalex_on: bool\n",
            "  autoscaley_on: bool\n",
            "  axes_locator: Callable[[Axes, Renderer], Bbox]\n",
            "  axisbelow: bool or 'line'\n",
            "  clip_box: `.Bbox`\n",
            "  clip_on: bool\n",
            "  clip_path: Patch or (Path, Transform) or None\n",
            "  contains: callable\n",
            "  facecolor: color\n",
            "  fc: color\n",
            "  figure: `.Figure`\n",
            "  frame_on: bool\n",
            "  gid: str\n",
            "  in_layout: bool\n",
            "  label: object\n",
            "  navigate: bool\n",
            "  navigate_mode: unknown\n",
            "  path_effects: `.AbstractPathEffect`\n",
            "  picker: None or bool or float or callable\n",
            "  position: [left, bottom, width, height] or `~matplotlib.transforms.Bbox`\n",
            "  prop_cycle: unknown\n",
            "  rasterization_zorder: float or None\n",
            "  rasterized: bool or None\n",
            "  sketch_params: (scale: float, length: float, randomness: float)\n",
            "  snap: bool or None\n",
            "  subplotspec: unknown\n",
            "  title: str\n",
            "  transform: `.Transform`\n",
            "  url: str\n",
            "  visible: bool\n",
            "  xbound: unknown\n",
            "  xlabel: str\n",
            "  xlim: (bottom: float, top: float)\n",
            "  xmargin: float greater than -0.5\n",
            "  xscale: {\"linear\", \"log\", \"symlog\", \"logit\", ...}\n",
            "  xticklabels: List[str]\n",
            "  xticks: unknown\n",
            "  ybound: unknown\n",
            "  ylabel: str\n",
            "  ylim: (bottom: float, top: float)\n",
            "  ymargin: float greater than -0.5\n",
            "  yscale: {\"linear\", \"log\", \"symlog\", \"logit\", ...}\n",
            "  yticklabels: List[str]\n",
            "  yticks: unknown\n",
            "  zorder: float\n"
          ]
        },
        {
          "output_type": "stream",
          "name": "stderr",
          "text": [
            "/usr/local/lib/python3.7/dist-packages/seaborn/_decorators.py:43: FutureWarning: Pass the following variable as a keyword arg: x. From version 0.12, the only valid positional argument will be `data`, and passing other arguments without an explicit keyword will result in an error or misinterpretation.\n",
            "  FutureWarning\n",
            "/usr/local/lib/python3.7/dist-packages/seaborn/_decorators.py:43: FutureWarning: Pass the following variable as a keyword arg: x. From version 0.12, the only valid positional argument will be `data`, and passing other arguments without an explicit keyword will result in an error or misinterpretation.\n",
            "  FutureWarning\n"
          ]
        },
        {
          "output_type": "stream",
          "name": "stdout",
          "text": [
            "  adjustable: {'box', 'datalim'}\n",
            "  agg_filter: a filter function, which takes a (m, n, 3) float array and a dpi value, and returns a (m, n, 3) array\n",
            "  alpha: float or None\n",
            "  anchor: 2-tuple of floats or {'C', 'SW', 'S', 'SE', ...}\n",
            "  animated: bool\n",
            "  aspect: {'auto', 'equal'} or num\n",
            "  autoscale_on: bool\n",
            "  autoscalex_on: bool\n",
            "  autoscaley_on: bool\n",
            "  axes_locator: Callable[[Axes, Renderer], Bbox]\n",
            "  axisbelow: bool or 'line'\n",
            "  clip_box: `.Bbox`\n",
            "  clip_on: bool\n",
            "  clip_path: Patch or (Path, Transform) or None\n",
            "  contains: callable\n",
            "  facecolor: color\n",
            "  fc: color\n",
            "  figure: `.Figure`\n",
            "  frame_on: bool\n",
            "  gid: str\n",
            "  in_layout: bool\n",
            "  label: object\n",
            "  navigate: bool\n",
            "  navigate_mode: unknown\n",
            "  path_effects: `.AbstractPathEffect`\n",
            "  picker: None or bool or float or callable\n",
            "  position: [left, bottom, width, height] or `~matplotlib.transforms.Bbox`\n",
            "  prop_cycle: unknown\n",
            "  rasterization_zorder: float or None\n",
            "  rasterized: bool or None\n",
            "  sketch_params: (scale: float, length: float, randomness: float)\n",
            "  snap: bool or None\n",
            "  subplotspec: unknown\n",
            "  title: str\n",
            "  transform: `.Transform`\n",
            "  url: str\n",
            "  visible: bool\n",
            "  xbound: unknown\n",
            "  xlabel: str\n",
            "  xlim: (bottom: float, top: float)\n",
            "  xmargin: float greater than -0.5\n",
            "  xscale: {\"linear\", \"log\", \"symlog\", \"logit\", ...}\n",
            "  xticklabels: List[str]\n",
            "  xticks: unknown\n",
            "  ybound: unknown\n",
            "  ylabel: str\n",
            "  ylim: (bottom: float, top: float)\n",
            "  ymargin: float greater than -0.5\n",
            "  yscale: {\"linear\", \"log\", \"symlog\", \"logit\", ...}\n",
            "  yticklabels: List[str]\n",
            "  yticks: unknown\n",
            "  zorder: float\n",
            "  adjustable: {'box', 'datalim'}\n",
            "  agg_filter: a filter function, which takes a (m, n, 3) float array and a dpi value, and returns a (m, n, 3) array\n",
            "  alpha: float or None\n",
            "  anchor: 2-tuple of floats or {'C', 'SW', 'S', 'SE', ...}\n",
            "  animated: bool\n",
            "  aspect: {'auto', 'equal'} or num\n",
            "  autoscale_on: bool\n",
            "  autoscalex_on: bool\n",
            "  autoscaley_on: bool\n",
            "  axes_locator: Callable[[Axes, Renderer], Bbox]\n",
            "  axisbelow: bool or 'line'\n",
            "  clip_box: `.Bbox`\n",
            "  clip_on: bool\n",
            "  clip_path: Patch or (Path, Transform) or None\n",
            "  contains: callable\n",
            "  facecolor: color\n",
            "  fc: color\n",
            "  figure: `.Figure`\n",
            "  frame_on: bool\n",
            "  gid: str\n",
            "  in_layout: bool\n",
            "  label: object\n",
            "  navigate: bool\n",
            "  navigate_mode: unknown\n",
            "  path_effects: `.AbstractPathEffect`\n",
            "  picker: None or bool or float or callable\n",
            "  position: [left, bottom, width, height] or `~matplotlib.transforms.Bbox`\n",
            "  prop_cycle: unknown\n",
            "  rasterization_zorder: float or None\n",
            "  rasterized: bool or None\n",
            "  sketch_params: (scale: float, length: float, randomness: float)\n",
            "  snap: bool or None\n",
            "  subplotspec: unknown\n",
            "  title: str\n",
            "  transform: `.Transform`\n",
            "  url: str\n",
            "  visible: bool\n",
            "  xbound: unknown\n",
            "  xlabel: str\n",
            "  xlim: (bottom: float, top: float)\n",
            "  xmargin: float greater than -0.5\n",
            "  xscale: {\"linear\", \"log\", \"symlog\", \"logit\", ...}\n",
            "  xticklabels: List[str]\n",
            "  xticks: unknown\n",
            "  ybound: unknown\n",
            "  ylabel: str\n",
            "  ylim: (bottom: float, top: float)\n",
            "  ymargin: float greater than -0.5\n",
            "  yscale: {\"linear\", \"log\", \"symlog\", \"logit\", ...}\n",
            "  yticklabels: List[str]\n",
            "  yticks: unknown\n",
            "  zorder: float\n"
          ]
        },
        {
          "output_type": "display_data",
          "data": {
            "image/png": "[encoded data removed]",
            "text/plain": [
              "<Figure size 504x720 with 3 Axes>"
            ]
          },
          "metadata": {}
        }
      ]
    },
    {
      "cell_type": "code",
      "metadata": {
        "colab": {
          "base_uri": "https://localhost:8080/",
          "height": 297
        },
        "id": "FrJ2WR7Qdiwe",
        "outputId": "8a6ed811-bfcc-48da-af91-909c204cde9d"
      },
      "source": [
        "df.describe()"
      ],
      "execution_count": null,
      "outputs": [
        {
          "output_type": "execute_result",
          "data": {
            "text/html": [
              "<div>\n",
              "<style scoped>\n",
              "    .dataframe tbody tr th:only-of-type {\n",
              "        vertical-align: middle;\n",
              "    }\n",
              "\n",
              "    .dataframe tbody tr th {\n",
              "        vertical-align: top;\n",
              "    }\n",
              "\n",
              "    .dataframe thead th {\n",
              "        text-align: right;\n",
              "    }\n",
              "</style>\n",
              "<table border=\"1\" class=\"dataframe\">\n",
              "  <thead>\n",
              "    <tr style=\"text-align: right;\">\n",
              "      <th></th>\n",
              "      <th>Umur</th>\n",
              "      <th>NilaiBelanjaSetahun</th>\n",
              "    </tr>\n",
              "  </thead>\n",
              "  <tbody>\n",
              "    <tr>\n",
              "      <th>count</th>\n",
              "      <td>50.000000</td>\n",
              "      <td>5.000000e+01</td>\n",
              "    </tr>\n",
              "    <tr>\n",
              "      <th>mean</th>\n",
              "      <td>37.500000</td>\n",
              "      <td>7.069875e+06</td>\n",
              "    </tr>\n",
              "    <tr>\n",
              "      <th>std</th>\n",
              "      <td>14.673661</td>\n",
              "      <td>2.590619e+06</td>\n",
              "    </tr>\n",
              "    <tr>\n",
              "      <th>min</th>\n",
              "      <td>14.000000</td>\n",
              "      <td>2.722700e+06</td>\n",
              "    </tr>\n",
              "    <tr>\n",
              "      <th>25%</th>\n",
              "      <td>25.000000</td>\n",
              "      <td>5.257530e+06</td>\n",
              "    </tr>\n",
              "    <tr>\n",
              "      <th>50%</th>\n",
              "      <td>35.000000</td>\n",
              "      <td>5.980077e+06</td>\n",
              "    </tr>\n",
              "    <tr>\n",
              "      <th>75%</th>\n",
              "      <td>49.750000</td>\n",
              "      <td>9.739615e+06</td>\n",
              "    </tr>\n",
              "    <tr>\n",
              "      <th>max</th>\n",
              "      <td>64.000000</td>\n",
              "      <td>1.088451e+07</td>\n",
              "    </tr>\n",
              "  </tbody>\n",
              "</table>\n",
              "</div>"
            ],
            "text/plain": [
              "            Umur  NilaiBelanjaSetahun\n",
              "count  50.000000         5.000000e+01\n",
              "mean   37.500000         7.069875e+06\n",
              "std    14.673661         2.590619e+06\n",
              "min    14.000000         2.722700e+06\n",
              "25%    25.000000         5.257530e+06\n",
              "50%    35.000000         5.980077e+06\n",
              "75%    49.750000         9.739615e+06\n",
              "max    64.000000         1.088451e+07"
            ]
          },
          "metadata": {},
          "execution_count": 8
        }
      ]
    },
    {
      "cell_type": "markdown",
      "metadata": {
        "id": "9eIvDeLkcKId"
      },
      "source": [
        "Dari hasil explorasi data tersebut kamu dapat mendapatkan informasi:\n",
        "\n",
        "* Rata-rata dari umur pelanggan adalah 37.5 tahun\n",
        "* Rata-rata dari nilai belanja setahun pelanggan adalah 7,069,874.82\n",
        "* Jenis kelamin pelanggan di dominasi oleh wanita sebanyak 41 orang (82%) dan laki-laki sebanyak 9 orang (18%)\n",
        "* Profesi terbanyak adalah Wiraswasta (40%) diikuti dengan Professional (36%) dan lainnya sebanyak (24%)\n",
        "* Dari seluruh pelanggan 64% dari mereka tinggal di cluster dan 36% nya tinggal di sektor\n",
        "\n",
        "Tips:\n",
        "Kita dapat mengenal data kita lebih jauh lagi pada tahapan eksplorasi data ini. Proses eksplorasi data bisa berupa univariate maupun multivariate data eksplorasi. Eksplorasi Data Univariate melihat karakteristik tiap-tiap feature, misal nya dengan melihat statistik deskriptif, membuat histogram, kdeplot, count plot maupun boxplot. Sedangkat untuk Eksplorasi Data Multivariate, kita melihat hubungan tiap variabel dengan variabel lainnya, misal kan dengan membuat korelasi matrix, melihat predictive power, cross tabulasi, dan lainnya.\n",
        "\n"
      ]
    },
    {
      "cell_type": "markdown",
      "metadata": {
        "id": "uHIAND0Ad7_e"
      },
      "source": [
        "#**Mempersiapkan Data**\n",
        "Mempersiapkan Data Sebelum Permodelan\n",
        "Setiap machine learning model memiliki karakteristik yang berbeda-beda. Hal ini membuat kamu harus mempersiapkan data yang kamu miliki sebelum digunakan untuk melakukan permodelan. Sehingga dapat menyesuaikan dengan karakteristik yang dimiliki oleh tiap model dan mendapatkan hasil yang optimal.\n",
        "\n",
        "Kamu berencana akan melakukan permodelan dengan menggunakan teknik unsupervised clustering. Algoritma yang akan di gunakan adalah K-Prototypes. Salah satu faktor utama dalam algoritma ini adalah kamu perlu menggunakan data yang skala antar variabel nya setara. Selain itu kita juga perlu melakukan encoding kolom - kolom kategorikal yang di miliki menjadi numerik. Kemudian menggabungkan hasil pemrosesan data tersebut menjadi satu data frame untuk di gunakan dalam permodelan."
      ]
    },
    {
      "cell_type": "markdown",
      "metadata": {
        "id": "xot5-gYWg__b"
      },
      "source": [
        "Supaya mendapatkan hasil yang maksimal dalam penerapan algoritma ini, kamu perlu menjadikan data-data numerik yang kamu miliki berada pada satu skala. Hal ini dapat di lakukan dengan melakukan standardisasi data yang kamu miliki. Tujuannya adalah agar variabel yang memiliki skala besar tidak mendominasi bagaimana cluster akan di bentuk dan juga tiap variabel akan di anggap sama pentingnya oleh algoritma yang akan di gunakan."
      ]
    },
    {
      "cell_type": "code",
      "metadata": {
        "colab": {
          "base_uri": "https://localhost:8080/",
          "height": 331
        },
        "id": "1HiQ0--Jdd-R",
        "outputId": "b66c0ed8-85ec-4d7d-9050-5ec2c1aa5182"
      },
      "source": [
        "from sklearn.preprocessing import StandardScaler  \n",
        "  \n",
        "kolom_numerik = ['Umur','NilaiBelanjaSetahun']  \n",
        "  \n",
        "# Statistik sebelum Standardisasi  \n",
        "print('Statistik Sebelum Standardisasi\\n')  \n",
        "df[kolom_numerik].describe().round(1)\n"
      ],
      "execution_count": null,
      "outputs": [
        {
          "output_type": "stream",
          "name": "stdout",
          "text": [
            "Statistik Sebelum Standardisasi\n",
            "\n"
          ]
        },
        {
          "output_type": "execute_result",
          "data": {
            "text/html": [
              "<div>\n",
              "<style scoped>\n",
              "    .dataframe tbody tr th:only-of-type {\n",
              "        vertical-align: middle;\n",
              "    }\n",
              "\n",
              "    .dataframe tbody tr th {\n",
              "        vertical-align: top;\n",
              "    }\n",
              "\n",
              "    .dataframe thead th {\n",
              "        text-align: right;\n",
              "    }\n",
              "</style>\n",
              "<table border=\"1\" class=\"dataframe\">\n",
              "  <thead>\n",
              "    <tr style=\"text-align: right;\">\n",
              "      <th></th>\n",
              "      <th>Umur</th>\n",
              "      <th>NilaiBelanjaSetahun</th>\n",
              "    </tr>\n",
              "  </thead>\n",
              "  <tbody>\n",
              "    <tr>\n",
              "      <th>count</th>\n",
              "      <td>50.0</td>\n",
              "      <td>50.0</td>\n",
              "    </tr>\n",
              "    <tr>\n",
              "      <th>mean</th>\n",
              "      <td>37.5</td>\n",
              "      <td>7069874.8</td>\n",
              "    </tr>\n",
              "    <tr>\n",
              "      <th>std</th>\n",
              "      <td>14.7</td>\n",
              "      <td>2590619.0</td>\n",
              "    </tr>\n",
              "    <tr>\n",
              "      <th>min</th>\n",
              "      <td>14.0</td>\n",
              "      <td>2722700.0</td>\n",
              "    </tr>\n",
              "    <tr>\n",
              "      <th>25%</th>\n",
              "      <td>25.0</td>\n",
              "      <td>5257529.8</td>\n",
              "    </tr>\n",
              "    <tr>\n",
              "      <th>50%</th>\n",
              "      <td>35.0</td>\n",
              "      <td>5980077.0</td>\n",
              "    </tr>\n",
              "    <tr>\n",
              "      <th>75%</th>\n",
              "      <td>49.8</td>\n",
              "      <td>9739615.0</td>\n",
              "    </tr>\n",
              "    <tr>\n",
              "      <th>max</th>\n",
              "      <td>64.0</td>\n",
              "      <td>10884508.0</td>\n",
              "    </tr>\n",
              "  </tbody>\n",
              "</table>\n",
              "</div>"
            ],
            "text/plain": [
              "       Umur  NilaiBelanjaSetahun\n",
              "count  50.0                 50.0\n",
              "mean   37.5            7069874.8\n",
              "std    14.7            2590619.0\n",
              "min    14.0            2722700.0\n",
              "25%    25.0            5257529.8\n",
              "50%    35.0            5980077.0\n",
              "75%    49.8            9739615.0\n",
              "max    64.0           10884508.0"
            ]
          },
          "metadata": {},
          "execution_count": 9
        }
      ]
    },
    {
      "cell_type": "code",
      "metadata": {
        "colab": {
          "base_uri": "https://localhost:8080/",
          "height": 238
        },
        "id": "8P3NZ9yMgFDr",
        "outputId": "9fb4507a-9a17-4e43-a8e4-867579c394d5"
      },
      "source": [
        "# Standardisasi  \n",
        "df_std = StandardScaler().fit_transform(df[kolom_numerik])  \n",
        "  \n",
        "# Membuat DataFrame  \n",
        "df_std = pd.DataFrame(data=df_std, index=df.index, columns=df[kolom_numerik].columns)  \n",
        "  \n",
        "# Menampilkan contoh isi data dan summary statistic  \n",
        "print('Contoh hasil standardisasi\\n')  \n",
        "df_std.head()"
      ],
      "execution_count": null,
      "outputs": [
        {
          "output_type": "stream",
          "name": "stdout",
          "text": [
            "Contoh hasil standardisasi\n",
            "\n"
          ]
        },
        {
          "output_type": "execute_result",
          "data": {
            "text/html": [
              "<div>\n",
              "<style scoped>\n",
              "    .dataframe tbody tr th:only-of-type {\n",
              "        vertical-align: middle;\n",
              "    }\n",
              "\n",
              "    .dataframe tbody tr th {\n",
              "        vertical-align: top;\n",
              "    }\n",
              "\n",
              "    .dataframe thead th {\n",
              "        text-align: right;\n",
              "    }\n",
              "</style>\n",
              "<table border=\"1\" class=\"dataframe\">\n",
              "  <thead>\n",
              "    <tr style=\"text-align: right;\">\n",
              "      <th></th>\n",
              "      <th>Umur</th>\n",
              "      <th>NilaiBelanjaSetahun</th>\n",
              "    </tr>\n",
              "  </thead>\n",
              "  <tbody>\n",
              "    <tr>\n",
              "      <th>0</th>\n",
              "      <td>1.411245</td>\n",
              "      <td>0.946763</td>\n",
              "    </tr>\n",
              "    <tr>\n",
              "      <th>1</th>\n",
              "      <td>-1.617768</td>\n",
              "      <td>-1.695081</td>\n",
              "    </tr>\n",
              "    <tr>\n",
              "      <th>2</th>\n",
              "      <td>0.722833</td>\n",
              "      <td>-0.695414</td>\n",
              "    </tr>\n",
              "    <tr>\n",
              "      <th>3</th>\n",
              "      <td>1.067039</td>\n",
              "      <td>-0.727361</td>\n",
              "    </tr>\n",
              "    <tr>\n",
              "      <th>4</th>\n",
              "      <td>0.240944</td>\n",
              "      <td>1.382421</td>\n",
              "    </tr>\n",
              "  </tbody>\n",
              "</table>\n",
              "</div>"
            ],
            "text/plain": [
              "       Umur  NilaiBelanjaSetahun\n",
              "0  1.411245             0.946763\n",
              "1 -1.617768            -1.695081\n",
              "2  0.722833            -0.695414\n",
              "3  1.067039            -0.727361\n",
              "4  0.240944             1.382421"
            ]
          },
          "metadata": {},
          "execution_count": 10
        }
      ]
    },
    {
      "cell_type": "code",
      "metadata": {
        "colab": {
          "base_uri": "https://localhost:8080/",
          "height": 331
        },
        "id": "ZpUucNJcgHhj",
        "outputId": "3f96d35c-9337-4722-c6ca-cb6f9000ae45"
      },
      "source": [
        "print('Statistik hasil standardisasi\\n')  \n",
        "df_std.describe().round(0)"
      ],
      "execution_count": null,
      "outputs": [
        {
          "output_type": "stream",
          "name": "stdout",
          "text": [
            "Statistik hasil standardisasi\n",
            "\n"
          ]
        },
        {
          "output_type": "execute_result",
          "data": {
            "text/html": [
              "<div>\n",
              "<style scoped>\n",
              "    .dataframe tbody tr th:only-of-type {\n",
              "        vertical-align: middle;\n",
              "    }\n",
              "\n",
              "    .dataframe tbody tr th {\n",
              "        vertical-align: top;\n",
              "    }\n",
              "\n",
              "    .dataframe thead th {\n",
              "        text-align: right;\n",
              "    }\n",
              "</style>\n",
              "<table border=\"1\" class=\"dataframe\">\n",
              "  <thead>\n",
              "    <tr style=\"text-align: right;\">\n",
              "      <th></th>\n",
              "      <th>Umur</th>\n",
              "      <th>NilaiBelanjaSetahun</th>\n",
              "    </tr>\n",
              "  </thead>\n",
              "  <tbody>\n",
              "    <tr>\n",
              "      <th>count</th>\n",
              "      <td>50.0</td>\n",
              "      <td>50.0</td>\n",
              "    </tr>\n",
              "    <tr>\n",
              "      <th>mean</th>\n",
              "      <td>0.0</td>\n",
              "      <td>-0.0</td>\n",
              "    </tr>\n",
              "    <tr>\n",
              "      <th>std</th>\n",
              "      <td>1.0</td>\n",
              "      <td>1.0</td>\n",
              "    </tr>\n",
              "    <tr>\n",
              "      <th>min</th>\n",
              "      <td>-2.0</td>\n",
              "      <td>-2.0</td>\n",
              "    </tr>\n",
              "    <tr>\n",
              "      <th>25%</th>\n",
              "      <td>-1.0</td>\n",
              "      <td>-1.0</td>\n",
              "    </tr>\n",
              "    <tr>\n",
              "      <th>50%</th>\n",
              "      <td>-0.0</td>\n",
              "      <td>-0.0</td>\n",
              "    </tr>\n",
              "    <tr>\n",
              "      <th>75%</th>\n",
              "      <td>1.0</td>\n",
              "      <td>1.0</td>\n",
              "    </tr>\n",
              "    <tr>\n",
              "      <th>max</th>\n",
              "      <td>2.0</td>\n",
              "      <td>1.0</td>\n",
              "    </tr>\n",
              "  </tbody>\n",
              "</table>\n",
              "</div>"
            ],
            "text/plain": [
              "       Umur  NilaiBelanjaSetahun\n",
              "count  50.0                 50.0\n",
              "mean    0.0                 -0.0\n",
              "std     1.0                  1.0\n",
              "min    -2.0                 -2.0\n",
              "25%    -1.0                 -1.0\n",
              "50%    -0.0                 -0.0\n",
              "75%     1.0                  1.0\n",
              "max     2.0                  1.0"
            ]
          },
          "metadata": {},
          "execution_count": 11
        }
      ]
    },
    {
      "cell_type": "markdown",
      "metadata": {
        "id": "CyaXxGZFhK55"
      },
      "source": [
        "#**Konversi Kategorikal Data dengan Label Encoder**"
      ]
    },
    {
      "cell_type": "code",
      "metadata": {
        "colab": {
          "base_uri": "https://localhost:8080/"
        },
        "id": "p3DzjOUOhC0X",
        "outputId": "32aa1c9d-7913-40c8-cfa5-ae3d55f2d0be"
      },
      "source": [
        "\n",
        "  \n",
        "# Inisiasi nama kolom kategorikal  \n",
        "kolom_kategorikal = ['Jenis Kelamin','Profesi','Tipe Residen']  \n",
        "  \n",
        "# Membuat salinan data frame  \n",
        "df_encode = df[kolom_kategorikal].copy()  \n",
        "  \n",
        "  \n",
        "# Melakukan labelEncoder untuk semua kolom kategorikal  \n",
        "for col in kolom_kategorikal:  \n",
        "    df_encode[col]= LabelEncoder().fit_transform(df_encode[col])\n",
        "      \n",
        "# Menampilkan data  \n",
        "print(df_encode.head())"
      ],
      "execution_count": null,
      "outputs": [
        {
          "output_type": "stream",
          "name": "stdout",
          "text": [
            "   Jenis Kelamin  Profesi  Tipe Residen\n",
            "0              0        4             1\n",
            "1              1        2             0\n",
            "2              0        3             0\n",
            "3              0        3             0\n",
            "4              1        4             0\n"
          ]
        }
      ]
    },
    {
      "cell_type": "code",
      "metadata": {
        "colab": {
          "base_uri": "https://localhost:8080/"
        },
        "id": "6QkJbE90ioib",
        "outputId": "897f435f-e132-42eb-f3c9-caabeb85aad4"
      },
      "source": [
        "# Menggabungkan data frame\n",
        "df_model= df_encode.merge(df_std, left_index = True, right_index=True, how= 'left')  \n",
        "print(df_model.head())  "
      ],
      "execution_count": null,
      "outputs": [
        {
          "output_type": "stream",
          "name": "stdout",
          "text": [
            "   Jenis Kelamin  Profesi  Tipe Residen      Umur  NilaiBelanjaSetahun\n",
            "0              0        4             1  1.411245             0.946763\n",
            "1              1        2             0 -1.617768            -1.695081\n",
            "2              0        3             0  0.722833            -0.695414\n",
            "3              0        3             0  1.067039            -0.727361\n",
            "4              1        4             0  0.240944             1.382421\n"
          ]
        }
      ]
    },
    {
      "cell_type": "markdown",
      "metadata": {
        "id": "ZmUGCzIE66kU"
      },
      "source": [
        "Tips:\n",
        "\n",
        "Pada aplikasi di Industri, proses pemrosesan data ini termasuk yang paling banyak menghabiskan waktu bagi data scientist. Selain yang sudah kita lakukan masih banyak teknik lain yang perlu di lakukan. Sebagai contoh kadang kita perlu melakukan data Imputation ketika ada NULL data di data set yang akan kita gunakan. Selain itu kadang kita juga perlu melakukan transformasi variabel, misalnya ketika kita memiliki distribusi data yang condong ke salah satu sisi (skew data). Tambahan contoh lainnya yaitu terkadang kita perlu menangani pencilan yang ada di data kita.\n",
        "\n"
      ]
    },
    {
      "cell_type": "markdown",
      "metadata": {
        "id": "FX4C2cS-_JrQ"
      },
      "source": [
        "#**Modeling**\n",
        "Clustering adalah proses pembagian objek-objek ke dalam beberapa kelompok (cluster) berdasarkan tingkat kemiripan antara satu objek dengan yang lain.\n",
        "\n",
        "Terdapat beberapa algoritma untuk melakukan clustering ini. Salah satu yang populer adalah k-means.\n",
        "\n",
        "K-means itu sendiri biasa nya hanya digunakan untuk data-data yang bersifat numerik. Sedangkan untuk yang bersifat kategorikal saja, kita bisa menggunakan k-modes.\n",
        "\n",
        "Lalu bagaimana apabila di data kita terdapat gabungan kategorikal dan numerikal variabel? Jawabannya kita bisa menggunakan algoritma k-prototype yang merupakan gabungan dari k-means dan k-modes. Hal ini bisa di lakukan dengan menggunakan library k-modes yang di dalamnya terdapat modul kprototype.\n",
        "\n",
        "Untuk menggunakan algoritma kprototype kamu perlu memasukkan jumlah cluster yang di kehendaki dan juga memberikan index kolom untuk kolom-kolom yang bersifat kategorikal."
      ]
    },
    {
      "cell_type": "code",
      "metadata": {
        "colab": {
          "base_uri": "https://localhost:8080/",
          "height": 268
        },
        "id": "uweb8kld7Ee7",
        "outputId": "ff5bdd12-be76-472d-c338-f879d172a2da"
      },
      "source": [
        "# Melakukan Iterasi untuk Mendapatkan nilai Cost  \n",
        "cost = {}  \n",
        "for k in range(2,10):  \n",
        "    kproto = KPrototypes(n_clusters = k,random_state=75)  \n",
        "    kproto.fit_predict(df_model, categorical=[0,1,2])  \n",
        "    cost[k]= kproto.cost_  \n",
        "  \n",
        "# Memvisualisasikan Elbow Plot  \n",
        "sns.pointplot(x=list(cost.keys()), y=list(cost.values()))  \n",
        "plt.show()"
      ],
      "execution_count": null,
      "outputs": [
        {
          "output_type": "display_data",
          "data": {
            "image/png": "[encoded data removed]",
            "text/plain": [
              "<Figure size 432x288 with 1 Axes>"
            ]
          },
          "metadata": {}
        }
      ]
    },
    {
      "cell_type": "markdown",
      "metadata": {
        "id": "yLtlb1kGCIa3"
      },
      "source": [
        "Dari hasil tersebut, kamu dapat mengetahui titik siku dari plot tersebut adalah pada saat k = 5. Sehingga kamu memutuskan untuk menggunakan 5 sebagai jumlah cluster optimalnya."
      ]
    },
    {
      "cell_type": "markdown",
      "metadata": {
        "id": "CqjOhwhNDlxh"
      },
      "source": [
        "\n",
        "Selanjutnya kamu dapat melakukan pembuatan model dengan jumlah kluster yang sudah di dapat pada tahap sebelumnya yaitu 5 dan menyimpan hasilnya sebagai pickle file.\n",
        "\n"
      ]
    },
    {
      "cell_type": "code",
      "metadata": {
        "id": "qjlwiciLCJJw"
      },
      "source": [
        "kproto = KPrototypes(n_clusters=5, random_state = 75)\n",
        "kproto = kproto.fit(df_model, categorical=[0,1,2])"
      ],
      "execution_count": null,
      "outputs": []
    },
    {
      "cell_type": "markdown",
      "metadata": {
        "id": "8_0-iSkDEj1C"
      },
      "source": [
        "Menggunakan Model"
      ]
    },
    {
      "cell_type": "code",
      "metadata": {
        "colab": {
          "base_uri": "https://localhost:8080/"
        },
        "id": "cPzCqzSzDmGM",
        "outputId": "00c1ed95-7ef5-4da6-a122-27d04aba4cf4"
      },
      "source": [
        "\n",
        "# Menentukan segmen tiap pelanggan    \n",
        "clusters =  kproto.predict(df_model, categorical=[0,1,2])    \n",
        "print('segmen pelanggan: {}\\n'.format(clusters))    \n",
        "    \n",
        "# Menggabungkan data awal dan segmen pelanggan    \n",
        "df_final = df.copy()    \n",
        "df_final['cluster'] = clusters\n",
        "print(df_final.head())   "
      ],
      "execution_count": null,
      "outputs": [
        {
          "output_type": "stream",
          "name": "stdout",
          "text": [
            "segmen pelanggan: [1 0 2 2 3 4 1 2 4 4 2 2 1 1 3 4 4 2 3 0 3 2 4 3 3 2 3 4 2 2 0 1 0 3 4 3 4\n",
            " 1 4 0 4 3 4 3 4 3 2 1 4 1]\n",
            "\n",
            "  Customer_ID       Nama Pelanggan  ... NilaiBelanjaSetahun  cluster\n",
            "0    CUST-001         Budi Anggara  ...             9497927        1\n",
            "1    CUST-002     Shirley Ratuwati  ...             2722700        0\n",
            "2    CUST-003         Agus Cahyono  ...             5286429        2\n",
            "3    CUST-004     Antonius Winarta  ...             5204498        2\n",
            "4    CUST-005  Ibu Sri Wahyuni, IR  ...            10615206        3\n",
            "\n",
            "[5 rows x 8 columns]\n"
          ]
        }
      ]
    },
    {
      "cell_type": "code",
      "metadata": {
        "colab": {
          "base_uri": "https://localhost:8080/",
          "height": 518
        },
        "id": "HirKHnRbI6DC",
        "outputId": "c9b08ead-10d0-45cd-fe13-79b1166e2f08"
      },
      "source": [
        "# plotting all the clusters and their Centroids\n",
        "\n",
        "plt.figure(figsize=(8,8))\n",
        "plt.scatter(df_final.Umur[df_final['cluster']== 0], df_final.NilaiBelanjaSetahun[df_final['cluster']== 0], c='green', label='Cluster 1')\n",
        "plt.scatter(df_final.Umur[df_final['cluster']== 1], df_final.NilaiBelanjaSetahun[df_final['cluster']== 1], c='red', label='Cluster 2')\n",
        "plt.scatter(df_final.Umur[df_final['cluster']== 2], df_final.NilaiBelanjaSetahun[df_final['cluster']== 2], c='yellow', label='Cluster 3')\n",
        "plt.scatter(df_final.Umur[df_final['cluster']== 3], df_final.NilaiBelanjaSetahun[df_final['cluster']== 3], c='violet', label='Cluster 4')\n",
        "plt.scatter(df_final.Umur[df_final['cluster']== 4], df_final.NilaiBelanjaSetahun[df_final['cluster']== 4], c='blue', label='Cluster 5')\n",
        "\n",
        "plt.title('Customer Groups')\n",
        "plt.xlabel('Umur')\n",
        "plt.ylabel('Nilai Belanja')\n",
        "plt.show()"
      ],
      "execution_count": null,
      "outputs": [
        {
          "output_type": "display_data",
          "data": {
            "image/png": "[encoded data removed]",
            "text/plain": [
              "<Figure size 576x576 with 1 Axes>"
            ]
          },
          "metadata": {}
        }
      ]
    },
    {
      "cell_type": "code",
      "metadata": {
        "colab": {
          "base_uri": "https://localhost:8080/",
          "height": 204
        },
        "id": "tiJY1q8eGK53",
        "outputId": "a8832a1c-285f-4993-8247-0b60e76f29e2"
      },
      "source": [
        "# Menampilkan data pelanggan berdasarkan cluster nya  \n",
        "df_final[df_final['cluster']== 0]"
      ],
      "execution_count": null,
      "outputs": [
        {
          "output_type": "execute_result",
          "data": {
            "text/html": [
              "<div>\n",
              "<style scoped>\n",
              "    .dataframe tbody tr th:only-of-type {\n",
              "        vertical-align: middle;\n",
              "    }\n",
              "\n",
              "    .dataframe tbody tr th {\n",
              "        vertical-align: top;\n",
              "    }\n",
              "\n",
              "    .dataframe thead th {\n",
              "        text-align: right;\n",
              "    }\n",
              "</style>\n",
              "<table border=\"1\" class=\"dataframe\">\n",
              "  <thead>\n",
              "    <tr style=\"text-align: right;\">\n",
              "      <th></th>\n",
              "      <th>Customer_ID</th>\n",
              "      <th>Nama Pelanggan</th>\n",
              "      <th>Jenis Kelamin</th>\n",
              "      <th>Umur</th>\n",
              "      <th>Profesi</th>\n",
              "      <th>Tipe Residen</th>\n",
              "      <th>NilaiBelanjaSetahun</th>\n",
              "      <th>cluster</th>\n",
              "    </tr>\n",
              "  </thead>\n",
              "  <tbody>\n",
              "    <tr>\n",
              "      <th>1</th>\n",
              "      <td>CUST-002</td>\n",
              "      <td>Shirley Ratuwati</td>\n",
              "      <td>Wanita</td>\n",
              "      <td>14</td>\n",
              "      <td>Pelajar</td>\n",
              "      <td>Cluster</td>\n",
              "      <td>2722700</td>\n",
              "      <td>0</td>\n",
              "    </tr>\n",
              "    <tr>\n",
              "      <th>19</th>\n",
              "      <td>CUST-020</td>\n",
              "      <td>Irene Novianto</td>\n",
              "      <td>Wanita</td>\n",
              "      <td>16</td>\n",
              "      <td>Pelajar</td>\n",
              "      <td>Sector</td>\n",
              "      <td>2896845</td>\n",
              "      <td>0</td>\n",
              "    </tr>\n",
              "    <tr>\n",
              "      <th>30</th>\n",
              "      <td>CUST-031</td>\n",
              "      <td>Eviana Handry</td>\n",
              "      <td>Wanita</td>\n",
              "      <td>19</td>\n",
              "      <td>Mahasiswa</td>\n",
              "      <td>Cluster</td>\n",
              "      <td>3042773</td>\n",
              "      <td>0</td>\n",
              "    </tr>\n",
              "    <tr>\n",
              "      <th>32</th>\n",
              "      <td>CUST-033</td>\n",
              "      <td>Cecilia Kusnadi</td>\n",
              "      <td>Wanita</td>\n",
              "      <td>19</td>\n",
              "      <td>Mahasiswa</td>\n",
              "      <td>Cluster</td>\n",
              "      <td>3047926</td>\n",
              "      <td>0</td>\n",
              "    </tr>\n",
              "    <tr>\n",
              "      <th>39</th>\n",
              "      <td>CUST-040</td>\n",
              "      <td>Irene Darmawan</td>\n",
              "      <td>Wanita</td>\n",
              "      <td>14</td>\n",
              "      <td>Pelajar</td>\n",
              "      <td>Sector</td>\n",
              "      <td>2861855</td>\n",
              "      <td>0</td>\n",
              "    </tr>\n",
              "  </tbody>\n",
              "</table>\n",
              "</div>"
            ],
            "text/plain": [
              "   Customer_ID    Nama Pelanggan  ... NilaiBelanjaSetahun  cluster\n",
              "1     CUST-002  Shirley Ratuwati  ...             2722700        0\n",
              "19    CUST-020    Irene Novianto  ...             2896845        0\n",
              "30    CUST-031     Eviana Handry  ...             3042773        0\n",
              "32    CUST-033   Cecilia Kusnadi  ...             3047926        0\n",
              "39    CUST-040    Irene Darmawan  ...             2861855        0\n",
              "\n",
              "[5 rows x 8 columns]"
            ]
          },
          "metadata": {},
          "execution_count": 18
        }
      ]
    },
    {
      "cell_type": "code",
      "metadata": {
        "colab": {
          "base_uri": "https://localhost:8080/",
          "height": 297
        },
        "id": "Ff8SpT2AN-8Q",
        "outputId": "dc0b43dc-47c1-4a26-d138-9d3a76d6b963"
      },
      "source": [
        "df_final[df_final['cluster']== 1]"
      ],
      "execution_count": null,
      "outputs": [
        {
          "output_type": "execute_result",
          "data": {
            "text/html": [
              "<div>\n",
              "<style scoped>\n",
              "    .dataframe tbody tr th:only-of-type {\n",
              "        vertical-align: middle;\n",
              "    }\n",
              "\n",
              "    .dataframe tbody tr th {\n",
              "        vertical-align: top;\n",
              "    }\n",
              "\n",
              "    .dataframe thead th {\n",
              "        text-align: right;\n",
              "    }\n",
              "</style>\n",
              "<table border=\"1\" class=\"dataframe\">\n",
              "  <thead>\n",
              "    <tr style=\"text-align: right;\">\n",
              "      <th></th>\n",
              "      <th>Customer_ID</th>\n",
              "      <th>Nama Pelanggan</th>\n",
              "      <th>Jenis Kelamin</th>\n",
              "      <th>Umur</th>\n",
              "      <th>Profesi</th>\n",
              "      <th>Tipe Residen</th>\n",
              "      <th>NilaiBelanjaSetahun</th>\n",
              "      <th>cluster</th>\n",
              "    </tr>\n",
              "  </thead>\n",
              "  <tbody>\n",
              "    <tr>\n",
              "      <th>0</th>\n",
              "      <td>CUST-001</td>\n",
              "      <td>Budi Anggara</td>\n",
              "      <td>Pria</td>\n",
              "      <td>58</td>\n",
              "      <td>Wiraswasta</td>\n",
              "      <td>Sector</td>\n",
              "      <td>9497927</td>\n",
              "      <td>1</td>\n",
              "    </tr>\n",
              "    <tr>\n",
              "      <th>6</th>\n",
              "      <td>CUST-007</td>\n",
              "      <td>Cahyono, Agus</td>\n",
              "      <td>Pria</td>\n",
              "      <td>64</td>\n",
              "      <td>Wiraswasta</td>\n",
              "      <td>Sector</td>\n",
              "      <td>9837260</td>\n",
              "      <td>1</td>\n",
              "    </tr>\n",
              "    <tr>\n",
              "      <th>12</th>\n",
              "      <td>CUST-013</td>\n",
              "      <td>Cahaya Putri</td>\n",
              "      <td>Wanita</td>\n",
              "      <td>64</td>\n",
              "      <td>Wiraswasta</td>\n",
              "      <td>Cluster</td>\n",
              "      <td>9333168</td>\n",
              "      <td>1</td>\n",
              "    </tr>\n",
              "    <tr>\n",
              "      <th>13</th>\n",
              "      <td>CUST-014</td>\n",
              "      <td>Mario Setiawan</td>\n",
              "      <td>Pria</td>\n",
              "      <td>60</td>\n",
              "      <td>Wiraswasta</td>\n",
              "      <td>Cluster</td>\n",
              "      <td>9471615</td>\n",
              "      <td>1</td>\n",
              "    </tr>\n",
              "    <tr>\n",
              "      <th>31</th>\n",
              "      <td>CUST-032</td>\n",
              "      <td>Chintya Winarni</td>\n",
              "      <td>Wanita</td>\n",
              "      <td>47</td>\n",
              "      <td>Wiraswasta</td>\n",
              "      <td>Sector</td>\n",
              "      <td>10663179</td>\n",
              "      <td>1</td>\n",
              "    </tr>\n",
              "    <tr>\n",
              "      <th>37</th>\n",
              "      <td>CUST-038</td>\n",
              "      <td>Agatha Salim</td>\n",
              "      <td>Wanita</td>\n",
              "      <td>46</td>\n",
              "      <td>Wiraswasta</td>\n",
              "      <td>Sector</td>\n",
              "      <td>10477127</td>\n",
              "      <td>1</td>\n",
              "    </tr>\n",
              "    <tr>\n",
              "      <th>47</th>\n",
              "      <td>CUST-048</td>\n",
              "      <td>Maria Hutagalung</td>\n",
              "      <td>Wanita</td>\n",
              "      <td>45</td>\n",
              "      <td>Wiraswasta</td>\n",
              "      <td>Sector</td>\n",
              "      <td>10390732</td>\n",
              "      <td>1</td>\n",
              "    </tr>\n",
              "    <tr>\n",
              "      <th>49</th>\n",
              "      <td>CUST-050</td>\n",
              "      <td>Lianna Nugraha</td>\n",
              "      <td>Wanita</td>\n",
              "      <td>55</td>\n",
              "      <td>Wiraswasta</td>\n",
              "      <td>Sector</td>\n",
              "      <td>10569316</td>\n",
              "      <td>1</td>\n",
              "    </tr>\n",
              "  </tbody>\n",
              "</table>\n",
              "</div>"
            ],
            "text/plain": [
              "   Customer_ID    Nama Pelanggan  ... NilaiBelanjaSetahun  cluster\n",
              "0     CUST-001      Budi Anggara  ...             9497927        1\n",
              "6     CUST-007     Cahyono, Agus  ...             9837260        1\n",
              "12    CUST-013      Cahaya Putri  ...             9333168        1\n",
              "13    CUST-014    Mario Setiawan  ...             9471615        1\n",
              "31    CUST-032   Chintya Winarni  ...            10663179        1\n",
              "37    CUST-038      Agatha Salim  ...            10477127        1\n",
              "47    CUST-048  Maria Hutagalung  ...            10390732        1\n",
              "49    CUST-050    Lianna Nugraha  ...            10569316        1\n",
              "\n",
              "[8 rows x 8 columns]"
            ]
          },
          "metadata": {},
          "execution_count": 19
        }
      ]
    },
    {
      "cell_type": "code",
      "metadata": {
        "colab": {
          "base_uri": "https://localhost:8080/",
          "height": 390
        },
        "id": "9qZdKtEpNLU9",
        "outputId": "2208d146-dbd7-463e-8c3d-bc8ee7c43e78"
      },
      "source": [
        "df_final[df_final['cluster']== 2]"
      ],
      "execution_count": null,
      "outputs": [
        {
          "output_type": "execute_result",
          "data": {
            "text/html": [
              "<div>\n",
              "<style scoped>\n",
              "    .dataframe tbody tr th:only-of-type {\n",
              "        vertical-align: middle;\n",
              "    }\n",
              "\n",
              "    .dataframe tbody tr th {\n",
              "        vertical-align: top;\n",
              "    }\n",
              "\n",
              "    .dataframe thead th {\n",
              "        text-align: right;\n",
              "    }\n",
              "</style>\n",
              "<table border=\"1\" class=\"dataframe\">\n",
              "  <thead>\n",
              "    <tr style=\"text-align: right;\">\n",
              "      <th></th>\n",
              "      <th>Customer_ID</th>\n",
              "      <th>Nama Pelanggan</th>\n",
              "      <th>Jenis Kelamin</th>\n",
              "      <th>Umur</th>\n",
              "      <th>Profesi</th>\n",
              "      <th>Tipe Residen</th>\n",
              "      <th>NilaiBelanjaSetahun</th>\n",
              "      <th>cluster</th>\n",
              "    </tr>\n",
              "  </thead>\n",
              "  <tbody>\n",
              "    <tr>\n",
              "      <th>2</th>\n",
              "      <td>CUST-003</td>\n",
              "      <td>Agus Cahyono</td>\n",
              "      <td>Pria</td>\n",
              "      <td>48</td>\n",
              "      <td>Professional</td>\n",
              "      <td>Cluster</td>\n",
              "      <td>5286429</td>\n",
              "      <td>2</td>\n",
              "    </tr>\n",
              "    <tr>\n",
              "      <th>3</th>\n",
              "      <td>CUST-004</td>\n",
              "      <td>Antonius Winarta</td>\n",
              "      <td>Pria</td>\n",
              "      <td>53</td>\n",
              "      <td>Professional</td>\n",
              "      <td>Cluster</td>\n",
              "      <td>5204498</td>\n",
              "      <td>2</td>\n",
              "    </tr>\n",
              "    <tr>\n",
              "      <th>7</th>\n",
              "      <td>CUST-008</td>\n",
              "      <td>Danang Santosa</td>\n",
              "      <td>Pria</td>\n",
              "      <td>52</td>\n",
              "      <td>Professional</td>\n",
              "      <td>Cluster</td>\n",
              "      <td>5223569</td>\n",
              "      <td>2</td>\n",
              "    </tr>\n",
              "    <tr>\n",
              "      <th>10</th>\n",
              "      <td>CUST-011</td>\n",
              "      <td>Maria Suryawan</td>\n",
              "      <td>Wanita</td>\n",
              "      <td>50</td>\n",
              "      <td>Professional</td>\n",
              "      <td>Sector</td>\n",
              "      <td>5987367</td>\n",
              "      <td>2</td>\n",
              "    </tr>\n",
              "    <tr>\n",
              "      <th>11</th>\n",
              "      <td>CUST-012</td>\n",
              "      <td>Erliana Widjaja</td>\n",
              "      <td>Wanita</td>\n",
              "      <td>49</td>\n",
              "      <td>Professional</td>\n",
              "      <td>Sector</td>\n",
              "      <td>5941914</td>\n",
              "      <td>2</td>\n",
              "    </tr>\n",
              "    <tr>\n",
              "      <th>17</th>\n",
              "      <td>CUST-018</td>\n",
              "      <td>Nelly Halim</td>\n",
              "      <td>Wanita</td>\n",
              "      <td>63</td>\n",
              "      <td>Ibu Rumah Tangga</td>\n",
              "      <td>Cluster</td>\n",
              "      <td>5340690</td>\n",
              "      <td>2</td>\n",
              "    </tr>\n",
              "    <tr>\n",
              "      <th>21</th>\n",
              "      <td>CUST-022</td>\n",
              "      <td>Novita Purba</td>\n",
              "      <td>Wanita</td>\n",
              "      <td>52</td>\n",
              "      <td>Professional</td>\n",
              "      <td>Cluster</td>\n",
              "      <td>5298157</td>\n",
              "      <td>2</td>\n",
              "    </tr>\n",
              "    <tr>\n",
              "      <th>25</th>\n",
              "      <td>CUST-026</td>\n",
              "      <td>Christine Winarto</td>\n",
              "      <td>Wanita</td>\n",
              "      <td>55</td>\n",
              "      <td>Professional</td>\n",
              "      <td>Cluster</td>\n",
              "      <td>5269392</td>\n",
              "      <td>2</td>\n",
              "    </tr>\n",
              "    <tr>\n",
              "      <th>28</th>\n",
              "      <td>CUST-029</td>\n",
              "      <td>Tia Hartanti</td>\n",
              "      <td>Wanita</td>\n",
              "      <td>56</td>\n",
              "      <td>Professional</td>\n",
              "      <td>Cluster</td>\n",
              "      <td>5271845</td>\n",
              "      <td>2</td>\n",
              "    </tr>\n",
              "    <tr>\n",
              "      <th>29</th>\n",
              "      <td>CUST-030</td>\n",
              "      <td>Rosita Saragih</td>\n",
              "      <td>Wanita</td>\n",
              "      <td>46</td>\n",
              "      <td>Ibu Rumah Tangga</td>\n",
              "      <td>Sector</td>\n",
              "      <td>5020976</td>\n",
              "      <td>2</td>\n",
              "    </tr>\n",
              "    <tr>\n",
              "      <th>46</th>\n",
              "      <td>CUST-047</td>\n",
              "      <td>Mira Kurnia</td>\n",
              "      <td>Wanita</td>\n",
              "      <td>55</td>\n",
              "      <td>Ibu Rumah Tangga</td>\n",
              "      <td>Cluster</td>\n",
              "      <td>6130724</td>\n",
              "      <td>2</td>\n",
              "    </tr>\n",
              "  </tbody>\n",
              "</table>\n",
              "</div>"
            ],
            "text/plain": [
              "   Customer_ID     Nama Pelanggan  ... NilaiBelanjaSetahun  cluster\n",
              "2     CUST-003       Agus Cahyono  ...             5286429        2\n",
              "3     CUST-004   Antonius Winarta  ...             5204498        2\n",
              "7     CUST-008     Danang Santosa  ...             5223569        2\n",
              "10    CUST-011     Maria Suryawan  ...             5987367        2\n",
              "11    CUST-012    Erliana Widjaja  ...             5941914        2\n",
              "17    CUST-018        Nelly Halim  ...             5340690        2\n",
              "21    CUST-022       Novita Purba  ...             5298157        2\n",
              "25    CUST-026  Christine Winarto  ...             5269392        2\n",
              "28    CUST-029       Tia Hartanti  ...             5271845        2\n",
              "29    CUST-030     Rosita Saragih  ...             5020976        2\n",
              "46    CUST-047        Mira Kurnia  ...             6130724        2\n",
              "\n",
              "[11 rows x 8 columns]"
            ]
          },
          "metadata": {},
          "execution_count": 20
        }
      ]
    },
    {
      "cell_type": "code",
      "metadata": {
        "colab": {
          "base_uri": "https://localhost:8080/",
          "height": 421
        },
        "id": "qcgqrv79Nowe",
        "outputId": "a79afcf0-e9b4-488d-dfc3-178789193e99"
      },
      "source": [
        "df_final[df_final['cluster']== 3]"
      ],
      "execution_count": null,
      "outputs": [
        {
          "output_type": "execute_result",
          "data": {
            "text/html": [
              "<div>\n",
              "<style scoped>\n",
              "    .dataframe tbody tr th:only-of-type {\n",
              "        vertical-align: middle;\n",
              "    }\n",
              "\n",
              "    .dataframe tbody tr th {\n",
              "        vertical-align: top;\n",
              "    }\n",
              "\n",
              "    .dataframe thead th {\n",
              "        text-align: right;\n",
              "    }\n",
              "</style>\n",
              "<table border=\"1\" class=\"dataframe\">\n",
              "  <thead>\n",
              "    <tr style=\"text-align: right;\">\n",
              "      <th></th>\n",
              "      <th>Customer_ID</th>\n",
              "      <th>Nama Pelanggan</th>\n",
              "      <th>Jenis Kelamin</th>\n",
              "      <th>Umur</th>\n",
              "      <th>Profesi</th>\n",
              "      <th>Tipe Residen</th>\n",
              "      <th>NilaiBelanjaSetahun</th>\n",
              "      <th>cluster</th>\n",
              "    </tr>\n",
              "  </thead>\n",
              "  <tbody>\n",
              "    <tr>\n",
              "      <th>4</th>\n",
              "      <td>CUST-005</td>\n",
              "      <td>Ibu Sri Wahyuni, IR</td>\n",
              "      <td>Wanita</td>\n",
              "      <td>41</td>\n",
              "      <td>Wiraswasta</td>\n",
              "      <td>Cluster</td>\n",
              "      <td>10615206</td>\n",
              "      <td>3</td>\n",
              "    </tr>\n",
              "    <tr>\n",
              "      <th>14</th>\n",
              "      <td>CUST-015</td>\n",
              "      <td>Shirley Ratuwati</td>\n",
              "      <td>Wanita</td>\n",
              "      <td>20</td>\n",
              "      <td>Wiraswasta</td>\n",
              "      <td>Cluster</td>\n",
              "      <td>10365668</td>\n",
              "      <td>3</td>\n",
              "    </tr>\n",
              "    <tr>\n",
              "      <th>18</th>\n",
              "      <td>CUST-019</td>\n",
              "      <td>Mega Pranoto</td>\n",
              "      <td>Wanita</td>\n",
              "      <td>32</td>\n",
              "      <td>Wiraswasta</td>\n",
              "      <td>Cluster</td>\n",
              "      <td>10884508</td>\n",
              "      <td>3</td>\n",
              "    </tr>\n",
              "    <tr>\n",
              "      <th>20</th>\n",
              "      <td>CUST-021</td>\n",
              "      <td>Lestari Fabianto</td>\n",
              "      <td>Wanita</td>\n",
              "      <td>38</td>\n",
              "      <td>Wiraswasta</td>\n",
              "      <td>Cluster</td>\n",
              "      <td>9222070</td>\n",
              "      <td>3</td>\n",
              "    </tr>\n",
              "    <tr>\n",
              "      <th>23</th>\n",
              "      <td>CUST-024</td>\n",
              "      <td>Putri Ginting</td>\n",
              "      <td>Wanita</td>\n",
              "      <td>39</td>\n",
              "      <td>Wiraswasta</td>\n",
              "      <td>Cluster</td>\n",
              "      <td>10259572</td>\n",
              "      <td>3</td>\n",
              "    </tr>\n",
              "    <tr>\n",
              "      <th>24</th>\n",
              "      <td>CUST-025</td>\n",
              "      <td>Julia Setiawan</td>\n",
              "      <td>Wanita</td>\n",
              "      <td>29</td>\n",
              "      <td>Wiraswasta</td>\n",
              "      <td>Sector</td>\n",
              "      <td>10721998</td>\n",
              "      <td>3</td>\n",
              "    </tr>\n",
              "    <tr>\n",
              "      <th>26</th>\n",
              "      <td>CUST-027</td>\n",
              "      <td>Grace Mulyati</td>\n",
              "      <td>Wanita</td>\n",
              "      <td>35</td>\n",
              "      <td>Wiraswasta</td>\n",
              "      <td>Cluster</td>\n",
              "      <td>9114159</td>\n",
              "      <td>3</td>\n",
              "    </tr>\n",
              "    <tr>\n",
              "      <th>33</th>\n",
              "      <td>CUST-034</td>\n",
              "      <td>Deasy Arisandi</td>\n",
              "      <td>Wanita</td>\n",
              "      <td>21</td>\n",
              "      <td>Wiraswasta</td>\n",
              "      <td>Sector</td>\n",
              "      <td>9759822</td>\n",
              "      <td>3</td>\n",
              "    </tr>\n",
              "    <tr>\n",
              "      <th>35</th>\n",
              "      <td>CUST-036</td>\n",
              "      <td>Ni Made Suasti</td>\n",
              "      <td>Wanita</td>\n",
              "      <td>30</td>\n",
              "      <td>Wiraswasta</td>\n",
              "      <td>Cluster</td>\n",
              "      <td>9678994</td>\n",
              "      <td>3</td>\n",
              "    </tr>\n",
              "    <tr>\n",
              "      <th>41</th>\n",
              "      <td>CUST-042</td>\n",
              "      <td>Yuliana Wati</td>\n",
              "      <td>Wanita</td>\n",
              "      <td>26</td>\n",
              "      <td>Wiraswasta</td>\n",
              "      <td>Cluster</td>\n",
              "      <td>9880607</td>\n",
              "      <td>3</td>\n",
              "    </tr>\n",
              "    <tr>\n",
              "      <th>43</th>\n",
              "      <td>CUST-044</td>\n",
              "      <td>Anna</td>\n",
              "      <td>Wanita</td>\n",
              "      <td>18</td>\n",
              "      <td>Wiraswasta</td>\n",
              "      <td>Cluster</td>\n",
              "      <td>9339737</td>\n",
              "      <td>3</td>\n",
              "    </tr>\n",
              "    <tr>\n",
              "      <th>45</th>\n",
              "      <td>CUST-046</td>\n",
              "      <td>Elfira Surya</td>\n",
              "      <td>Wanita</td>\n",
              "      <td>25</td>\n",
              "      <td>Wiraswasta</td>\n",
              "      <td>Sector</td>\n",
              "      <td>10099807</td>\n",
              "      <td>3</td>\n",
              "    </tr>\n",
              "  </tbody>\n",
              "</table>\n",
              "</div>"
            ],
            "text/plain": [
              "   Customer_ID       Nama Pelanggan  ... NilaiBelanjaSetahun  cluster\n",
              "4     CUST-005  Ibu Sri Wahyuni, IR  ...            10615206        3\n",
              "14    CUST-015     Shirley Ratuwati  ...            10365668        3\n",
              "18    CUST-019         Mega Pranoto  ...            10884508        3\n",
              "20    CUST-021     Lestari Fabianto  ...             9222070        3\n",
              "23    CUST-024        Putri Ginting  ...            10259572        3\n",
              "24    CUST-025       Julia Setiawan  ...            10721998        3\n",
              "26    CUST-027        Grace Mulyati  ...             9114159        3\n",
              "33    CUST-034       Deasy Arisandi  ...             9759822        3\n",
              "35    CUST-036       Ni Made Suasti  ...             9678994        3\n",
              "41    CUST-042         Yuliana Wati  ...             9880607        3\n",
              "43    CUST-044                 Anna  ...             9339737        3\n",
              "45    CUST-046         Elfira Surya  ...            10099807        3\n",
              "\n",
              "[12 rows x 8 columns]"
            ]
          },
          "metadata": {},
          "execution_count": 21
        }
      ]
    },
    {
      "cell_type": "code",
      "metadata": {
        "colab": {
          "base_uri": "https://localhost:8080/",
          "height": 483
        },
        "id": "ImIjhf2ON4vS",
        "outputId": "d46a247a-1183-479f-8577-34667e9d66f6"
      },
      "source": [
        "df_final[df_final['cluster']== 4]"
      ],
      "execution_count": null,
      "outputs": [
        {
          "output_type": "execute_result",
          "data": {
            "text/html": [
              "<div>\n",
              "<style scoped>\n",
              "    .dataframe tbody tr th:only-of-type {\n",
              "        vertical-align: middle;\n",
              "    }\n",
              "\n",
              "    .dataframe tbody tr th {\n",
              "        vertical-align: top;\n",
              "    }\n",
              "\n",
              "    .dataframe thead th {\n",
              "        text-align: right;\n",
              "    }\n",
              "</style>\n",
              "<table border=\"1\" class=\"dataframe\">\n",
              "  <thead>\n",
              "    <tr style=\"text-align: right;\">\n",
              "      <th></th>\n",
              "      <th>Customer_ID</th>\n",
              "      <th>Nama Pelanggan</th>\n",
              "      <th>Jenis Kelamin</th>\n",
              "      <th>Umur</th>\n",
              "      <th>Profesi</th>\n",
              "      <th>Tipe Residen</th>\n",
              "      <th>NilaiBelanjaSetahun</th>\n",
              "      <th>cluster</th>\n",
              "    </tr>\n",
              "  </thead>\n",
              "  <tbody>\n",
              "    <tr>\n",
              "      <th>5</th>\n",
              "      <td>CUST-006</td>\n",
              "      <td>Rosalina Kurnia</td>\n",
              "      <td>Wanita</td>\n",
              "      <td>24</td>\n",
              "      <td>Professional</td>\n",
              "      <td>Cluster</td>\n",
              "      <td>5215541</td>\n",
              "      <td>4</td>\n",
              "    </tr>\n",
              "    <tr>\n",
              "      <th>8</th>\n",
              "      <td>CUST-009</td>\n",
              "      <td>Elisabeth Suryadinata</td>\n",
              "      <td>Wanita</td>\n",
              "      <td>29</td>\n",
              "      <td>Professional</td>\n",
              "      <td>Sector</td>\n",
              "      <td>5993218</td>\n",
              "      <td>4</td>\n",
              "    </tr>\n",
              "    <tr>\n",
              "      <th>9</th>\n",
              "      <td>CUST-010</td>\n",
              "      <td>Mario Setiawan</td>\n",
              "      <td>Pria</td>\n",
              "      <td>33</td>\n",
              "      <td>Professional</td>\n",
              "      <td>Cluster</td>\n",
              "      <td>5257448</td>\n",
              "      <td>4</td>\n",
              "    </tr>\n",
              "    <tr>\n",
              "      <th>15</th>\n",
              "      <td>CUST-016</td>\n",
              "      <td>Bambang Rudi</td>\n",
              "      <td>Pria</td>\n",
              "      <td>35</td>\n",
              "      <td>Professional</td>\n",
              "      <td>Cluster</td>\n",
              "      <td>5262521</td>\n",
              "      <td>4</td>\n",
              "    </tr>\n",
              "    <tr>\n",
              "      <th>16</th>\n",
              "      <td>CUST-017</td>\n",
              "      <td>Yuni Sari</td>\n",
              "      <td>Wanita</td>\n",
              "      <td>32</td>\n",
              "      <td>Ibu Rumah Tangga</td>\n",
              "      <td>Cluster</td>\n",
              "      <td>5677762</td>\n",
              "      <td>4</td>\n",
              "    </tr>\n",
              "    <tr>\n",
              "      <th>22</th>\n",
              "      <td>CUST-023</td>\n",
              "      <td>Denny Amiruddin</td>\n",
              "      <td>Pria</td>\n",
              "      <td>34</td>\n",
              "      <td>Professional</td>\n",
              "      <td>Cluster</td>\n",
              "      <td>5239290</td>\n",
              "      <td>4</td>\n",
              "    </tr>\n",
              "    <tr>\n",
              "      <th>27</th>\n",
              "      <td>CUST-028</td>\n",
              "      <td>Adeline Huang</td>\n",
              "      <td>Wanita</td>\n",
              "      <td>40</td>\n",
              "      <td>Ibu Rumah Tangga</td>\n",
              "      <td>Cluster</td>\n",
              "      <td>6631680</td>\n",
              "      <td>4</td>\n",
              "    </tr>\n",
              "    <tr>\n",
              "      <th>34</th>\n",
              "      <td>CUST-035</td>\n",
              "      <td>Ida Ayu</td>\n",
              "      <td>Wanita</td>\n",
              "      <td>39</td>\n",
              "      <td>Professional</td>\n",
              "      <td>Sector</td>\n",
              "      <td>5962575</td>\n",
              "      <td>4</td>\n",
              "    </tr>\n",
              "    <tr>\n",
              "      <th>36</th>\n",
              "      <td>CUST-037</td>\n",
              "      <td>Felicia Tandiono</td>\n",
              "      <td>Wanita</td>\n",
              "      <td>25</td>\n",
              "      <td>Professional</td>\n",
              "      <td>Sector</td>\n",
              "      <td>5972787</td>\n",
              "      <td>4</td>\n",
              "    </tr>\n",
              "    <tr>\n",
              "      <th>38</th>\n",
              "      <td>CUST-039</td>\n",
              "      <td>Gina Hidayat</td>\n",
              "      <td>Wanita</td>\n",
              "      <td>20</td>\n",
              "      <td>Professional</td>\n",
              "      <td>Cluster</td>\n",
              "      <td>5257775</td>\n",
              "      <td>4</td>\n",
              "    </tr>\n",
              "    <tr>\n",
              "      <th>40</th>\n",
              "      <td>CUST-041</td>\n",
              "      <td>Shinta Aritonang</td>\n",
              "      <td>Wanita</td>\n",
              "      <td>24</td>\n",
              "      <td>Ibu Rumah Tangga</td>\n",
              "      <td>Cluster</td>\n",
              "      <td>6820976</td>\n",
              "      <td>4</td>\n",
              "    </tr>\n",
              "    <tr>\n",
              "      <th>42</th>\n",
              "      <td>CUST-043</td>\n",
              "      <td>Yenna Sumadi</td>\n",
              "      <td>Wanita</td>\n",
              "      <td>31</td>\n",
              "      <td>Professional</td>\n",
              "      <td>Cluster</td>\n",
              "      <td>5268410</td>\n",
              "      <td>4</td>\n",
              "    </tr>\n",
              "    <tr>\n",
              "      <th>44</th>\n",
              "      <td>CUST-045</td>\n",
              "      <td>Rismawati Juni</td>\n",
              "      <td>Wanita</td>\n",
              "      <td>22</td>\n",
              "      <td>Professional</td>\n",
              "      <td>Cluster</td>\n",
              "      <td>5211041</td>\n",
              "      <td>4</td>\n",
              "    </tr>\n",
              "    <tr>\n",
              "      <th>48</th>\n",
              "      <td>CUST-049</td>\n",
              "      <td>Josephine Wahab</td>\n",
              "      <td>Wanita</td>\n",
              "      <td>33</td>\n",
              "      <td>Ibu Rumah Tangga</td>\n",
              "      <td>Sector</td>\n",
              "      <td>4992585</td>\n",
              "      <td>4</td>\n",
              "    </tr>\n",
              "  </tbody>\n",
              "</table>\n",
              "</div>"
            ],
            "text/plain": [
              "   Customer_ID         Nama Pelanggan  ... NilaiBelanjaSetahun  cluster\n",
              "5     CUST-006        Rosalina Kurnia  ...             5215541        4\n",
              "8     CUST-009  Elisabeth Suryadinata  ...             5993218        4\n",
              "9     CUST-010         Mario Setiawan  ...             5257448        4\n",
              "15    CUST-016           Bambang Rudi  ...             5262521        4\n",
              "16    CUST-017              Yuni Sari  ...             5677762        4\n",
              "22    CUST-023        Denny Amiruddin  ...             5239290        4\n",
              "27    CUST-028          Adeline Huang  ...             6631680        4\n",
              "34    CUST-035                Ida Ayu  ...             5962575        4\n",
              "36    CUST-037       Felicia Tandiono  ...             5972787        4\n",
              "38    CUST-039           Gina Hidayat  ...             5257775        4\n",
              "40    CUST-041       Shinta Aritonang  ...             6820976        4\n",
              "42    CUST-043           Yenna Sumadi  ...             5268410        4\n",
              "44    CUST-045         Rismawati Juni  ...             5211041        4\n",
              "48    CUST-049        Josephine Wahab  ...             4992585        4\n",
              "\n",
              "[14 rows x 8 columns]"
            ]
          },
          "metadata": {},
          "execution_count": 22
        }
      ]
    },
    {
      "cell_type": "markdown",
      "metadata": {
        "id": "EuYhV5JMGw5I"
      },
      "source": [
        "#**Visualisasi Hasil Clustering** \n",
        "##Box Plot"
      ]
    },
    {
      "cell_type": "code",
      "metadata": {
        "colab": {
          "base_uri": "https://localhost:8080/",
          "height": 645
        },
        "id": "vFIJybuGHOe_",
        "outputId": "fdd1e06c-6e63-4d38-f5f8-71c0d755ba1b"
      },
      "source": [
        "# Data Numerical\n",
        "kolom_numerik = ['Umur','NilaiBelanjaSetahun']  \n",
        "  \n",
        "for i in kolom_numerik:  \n",
        "    plt.figure(figsize=(6,4))  \n",
        "    ax = sns.boxplot(x = 'cluster',y = i, data = df_final)  \n",
        "    plt.title('\\nBox Plot {}\\n'.format(i), fontsize=12)  \n",
        "    plt.show() \n"
      ],
      "execution_count": null,
      "outputs": [
        {
          "output_type": "display_data",
          "data": {
            "image/png": "[encoded data removed]",
            "text/plain": [
              "<Figure size 432x288 with 1 Axes>"
            ]
          },
          "metadata": {}
        },
        {
          "output_type": "display_data",
          "data": {
            "image/png": "[encoded data removed]",
            "text/plain": [
              "<Figure size 432x288 with 1 Axes>"
            ]
          },
          "metadata": {}
        }
      ]
    },
    {
      "cell_type": "code",
      "metadata": {
        "colab": {
          "base_uri": "https://localhost:8080/",
          "height": 959
        },
        "id": "fefyW_w1KOXT",
        "outputId": "c77318f1-26a2-421d-bf39-1b30a4dedd7c"
      },
      "source": [
        "# Data Kategorikal\n",
        "kolom_categorical = ['Jenis Kelamin','Profesi','Tipe Residen']\n",
        "\n",
        "for i in kolom_categorical:\n",
        "    plt.figure(figsize=(6,4))\n",
        "    ax = sns.countplot(data = df_final, x = 'cluster', hue = i )\n",
        "    plt.title('\\nCount Plot {}\\n'.format(i), fontsize=12)\n",
        "    ax.legend(loc=\"upper center\")\n",
        "for p in ax.patches:\n",
        "    ax.annotate(format(p.get_height(), '.0f'),\n",
        "    (p.get_x() + p.get_width() / 2., p.get_height()),\n",
        "    ha = 'center',\n",
        "    va = 'center',\n",
        "    xytext = (0, 10),\n",
        "    textcoords = 'offset points')\n",
        "\n",
        "sns.despine(right=True,top = True, left = True)\n",
        "ax.axes.yaxis.set_visible(False)\n",
        "plt.show()"
      ],
      "execution_count": null,
      "outputs": [
        {
          "output_type": "display_data",
          "data": {
            "image/png": "[encoded data removed]",
            "text/plain": [
              "<Figure size 432x288 with 1 Axes>"
            ]
          },
          "metadata": {}
        },
        {
          "output_type": "display_data",
          "data": {
            "image/png": "[encoded data removed]",
            "text/plain": [
              "<Figure size 432x288 with 1 Axes>"
            ]
          },
          "metadata": {}
        },
        {
          "output_type": "display_data",
          "data": {
            "image/png": "[encoded data removed]",
            "text/plain": [
              "<Figure size 432x288 with 1 Axes>"
            ]
          },
          "metadata": {}
        }
      ]
    },
    {
      "cell_type": "markdown",
      "metadata": {
        "id": "79ld02pXO2lB"
      },
      "source": [
        "#**Kesimpulan**\n",
        "Yeay! Akhirnya kamu sudah berhasil melakukan segmentasi pelanggan dan mendapatkan nama yang cocok untuk masing masing cluster. Yaitu:\n",
        "* Cluster 0: isi cluster ini adalah para pelajar dan mahasiswa dengan rata-rata umur mereka adalah 16 tahun dan nilai belanja setahun mendekati 3 juta.\n",
        "* Cluster 1: isi cluster ini adalah para wiraswata yang memiliki nilai transaksi rata-rata mendekati 10 juta. Isi dari cluster ini memiliki umur sekitar 45 - 64 tahun dengan rata-ratanya adalah 55 tahun.\n",
        "* Cluster 2: isi cluster ini adalah para professional dan ibu rumah tangga yang berusia tua dengan rentang umur 46 - 63 tahun dan dengan rata-rata 53 tahun dan nilai belanja setahun nya mendekati 6 juta.\n",
        "* Cluster 3: isi cluster ini adalah para wiraswasta yang memiliki nilai transaksi rata-rata mendekati 10 juta. Selain itu isi dari cluster ini memiliki umur sekitar 18 - 41 tahun dengan rata-ratanya adalah 29 tahun.\n",
        "* Cluster 4: isi cluster ini adalah para professional dan ibu rumah tangga yang berusia muda dengan rentang umur sekitar 20 - 40 tahun dan dengan rata-rata 30 tahun dan nilai belanja setahun nya mendekati 6 juta.\n",
        "\n",
        "\n"
      ]
    },
    {
      "cell_type": "code",
      "metadata": {
        "id": "Dcz2sU5pRROL"
      },
      "source": [
        "#Save Model\n",
        "pickle.dump(kproto, open('cluster.pkl', 'wb'))"
      ],
      "execution_count": null,
      "outputs": []
    },
    {
      "cell_type": "markdown",
      "metadata": {
        "id": "HFnAWyzLPLeS"
      },
      "source": [
        "Pada aplikasi di industri proses penentuan cluster yang optimum bisa dilakukan juga dengan melihat matriks evaluasi lainnya seperti sillhoute score dan callinski-harabaz score. Untuk detailnya bisa dilihat di dokumentasi sklearn (https://scikit-learn.org/stable/modules/clustering.html#clustering-performance-evaluation).\n",
        "\n",
        "Selain itu penentuan jumlah cluster yang optimal juga perlu mepertimbangkan masukan dari tim yang akan menggunakan model nya. Sehingga bisa menghasilkan cluster yang sesuai dengan kebutuhan mereka dan juga bagaimana cara mereka akan memperlakukan segmen-segmen ini.\n",
        "\n",
        "Tantangan lainnya adalah jumlah data yang jauh lebih banyak di banding dengan data set yang kamu gunakan untuk latihan ini. Sehingga waktu pemrosesan datanya dan pembuatan model nya akan menjadi lebih lama.\n",
        "\n"
      ]
    },
    {
      "cell_type": "code",
      "metadata": {
        "id": "6DkaRRVEYRyx"
      },
      "source": [
        "mall_data = pd.read_csv('Mall_Customers.csv')"
      ],
      "execution_count": null,
      "outputs": []
    },
    {
      "cell_type": "code",
      "metadata": {
        "id": "LXN2ik12V20H"
      },
      "source": [
        "from sklearn.cluster import DBSCAN"
      ],
      "execution_count": null,
      "outputs": []
    },
    {
      "cell_type": "code",
      "metadata": {
        "colab": {
          "base_uri": "https://localhost:8080/",
          "height": 204
        },
        "id": "fJWGcn7QWNii",
        "outputId": "ea424d7d-1373-415f-fcac-d6b0c2b956cd"
      },
      "source": [
        "mall_data.head(5)"
      ],
      "execution_count": null,
      "outputs": [
        {
          "output_type": "execute_result",
          "data": {
            "text/html": [
              "<div>\n",
              "<style scoped>\n",
              "    .dataframe tbody tr th:only-of-type {\n",
              "        vertical-align: middle;\n",
              "    }\n",
              "\n",
              "    .dataframe tbody tr th {\n",
              "        vertical-align: top;\n",
              "    }\n",
              "\n",
              "    .dataframe thead th {\n",
              "        text-align: right;\n",
              "    }\n",
              "</style>\n",
              "<table border=\"1\" class=\"dataframe\">\n",
              "  <thead>\n",
              "    <tr style=\"text-align: right;\">\n",
              "      <th></th>\n",
              "      <th>CustomerID</th>\n",
              "      <th>Gender</th>\n",
              "      <th>Age</th>\n",
              "      <th>Annual Income (k$)</th>\n",
              "      <th>Spending Score (1-100)</th>\n",
              "    </tr>\n",
              "  </thead>\n",
              "  <tbody>\n",
              "    <tr>\n",
              "      <th>0</th>\n",
              "      <td>1</td>\n",
              "      <td>Male</td>\n",
              "      <td>19</td>\n",
              "      <td>15</td>\n",
              "      <td>39</td>\n",
              "    </tr>\n",
              "    <tr>\n",
              "      <th>1</th>\n",
              "      <td>2</td>\n",
              "      <td>Male</td>\n",
              "      <td>21</td>\n",
              "      <td>15</td>\n",
              "      <td>81</td>\n",
              "    </tr>\n",
              "    <tr>\n",
              "      <th>2</th>\n",
              "      <td>3</td>\n",
              "      <td>Female</td>\n",
              "      <td>20</td>\n",
              "      <td>16</td>\n",
              "      <td>6</td>\n",
              "    </tr>\n",
              "    <tr>\n",
              "      <th>3</th>\n",
              "      <td>4</td>\n",
              "      <td>Female</td>\n",
              "      <td>23</td>\n",
              "      <td>16</td>\n",
              "      <td>77</td>\n",
              "    </tr>\n",
              "    <tr>\n",
              "      <th>4</th>\n",
              "      <td>5</td>\n",
              "      <td>Female</td>\n",
              "      <td>31</td>\n",
              "      <td>17</td>\n",
              "      <td>40</td>\n",
              "    </tr>\n",
              "  </tbody>\n",
              "</table>\n",
              "</div>"
            ],
            "text/plain": [
              "   CustomerID  Gender  Age  Annual Income (k$)  Spending Score (1-100)\n",
              "0           1    Male   19                  15                      39\n",
              "1           2    Male   21                  15                      81\n",
              "2           3  Female   20                  16                       6\n",
              "3           4  Female   23                  16                      77\n",
              "4           5  Female   31                  17                      40"
            ]
          },
          "metadata": {},
          "execution_count": 30
        }
      ]
    },
    {
      "cell_type": "code",
      "metadata": {
        "id": "atmM-k25Xk7-"
      },
      "source": [
        "X_numerics = mall_data[['Age', 'Annual Income (k$)', 'Spending Score (1-100)']]"
      ],
      "execution_count": null,
      "outputs": []
    },
    {
      "cell_type": "code",
      "metadata": {
        "id": "9kOGNXQbWf7h"
      },
      "source": [
        "from itertools import product\n",
        "\n",
        "eps_values = np.arange(8,12.75,0.25) # eps values to be investigated\n",
        "min_samples = np.arange(3,10) # min_samples values to be investigated\n",
        "DBSCAN_params = list(product(eps_values, min_samples))"
      ],
      "execution_count": null,
      "outputs": []
    },
    {
      "cell_type": "code",
      "metadata": {
        "id": "31AUsMj0Ww7x"
      },
      "source": [
        "from sklearn.metrics import silhouette_score\n",
        "no_of_clusters = []\n",
        "sil_score = []\n",
        "\n",
        "for p in DBSCAN_params:\n",
        "    DBS_clustering = DBSCAN(eps=p[0], min_samples=p[1]).fit(X_numerics)\n",
        "    no_of_clusters.append(len(np.unique(DBS_clustering.labels_)))\n",
        "    sil_score.append(silhouette_score(X_numerics, DBS_clustering.labels_))"
      ],
      "execution_count": null,
      "outputs": []
    },
    {
      "cell_type": "code",
      "metadata": {
        "colab": {
          "base_uri": "https://localhost:8080/",
          "height": 410
        },
        "id": "u1WStHrSYbMU",
        "outputId": "6862fd74-c0f8-4e9f-a0e1-869e8bef7f7b"
      },
      "source": [
        "tmp = pd.DataFrame.from_records(DBSCAN_params, columns =['Eps', 'Min_samples'])   \n",
        "tmp['No_of_clusters'] = no_of_clusters\n",
        "\n",
        "pivot_1 = pd.pivot_table(tmp, values='No_of_clusters', index='Min_samples', columns='Eps')\n",
        "\n",
        "fig, ax = plt.subplots(figsize=(12,6))\n",
        "sns.heatmap(pivot_1, annot=True,annot_kws={\"size\": 16}, cmap=\"YlGnBu\", ax=ax)\n",
        "ax.set_title('Number of clusters')\n",
        "plt.show()"
      ],
      "execution_count": null,
      "outputs": [
        {
          "output_type": "display_data",
          "data": {
            "image/png": "[encoded data removed]",
            "text/plain": [
              "<Figure size 864x432 with 2 Axes>"
            ]
          },
          "metadata": {}
        }
      ]
    },
    {
      "cell_type": "code",
      "metadata": {
        "colab": {
          "base_uri": "https://localhost:8080/",
          "height": 394
        },
        "id": "BhAs3gQeYmHg",
        "outputId": "8a8e86bb-2d35-4e2a-dda0-199822b5bca8"
      },
      "source": [
        "tmp = pd.DataFrame.from_records(DBSCAN_params, columns =['Eps', 'Min_samples'])   \n",
        "tmp['Sil_score'] = sil_score\n",
        "\n",
        "pivot_1 = pd.pivot_table(tmp, values='Sil_score', index='Min_samples', columns='Eps')\n",
        "\n",
        "fig, ax = plt.subplots(figsize=(18,6))\n",
        "sns.heatmap(pivot_1, annot=True, annot_kws={\"size\": 10}, cmap=\"YlGnBu\", ax=ax)\n",
        "plt.show()"
      ],
      "execution_count": null,
      "outputs": [
        {
          "output_type": "display_data",
          "data": {
            "image/png": "[encoded data removed]",
            "text/plain": [
              "<Figure size 1296x432 with 2 Axes>"
            ]
          },
          "metadata": {}
        }
      ]
    },
    {
      "cell_type": "code",
      "metadata": {
        "id": "GsOloUgIYrZE"
      },
      "source": [
        "DBS_clustering = DBSCAN(eps=12.5, min_samples=4).fit(X_numerics)\n",
        "\n",
        "DBSCAN_clustered = X_numerics.copy()\n",
        "DBSCAN_clustered.loc[:,'Cluster'] = DBS_clustering.labels_ # append labels to points"
      ],
      "execution_count": null,
      "outputs": []
    },
    {
      "cell_type": "code",
      "metadata": {
        "colab": {
          "base_uri": "https://localhost:8080/",
          "height": 266
        },
        "id": "MM1DgfyWYuYT",
        "outputId": "d26ec80f-6c20-4115-b3fc-0bb17f02f2d3"
      },
      "source": [
        "DBSCAN_clust_sizes = DBSCAN_clustered.groupby('Cluster').size().to_frame()\n",
        "DBSCAN_clust_sizes.columns = [\"DBSCAN_size\"]\n",
        "DBSCAN_clust_sizes"
      ],
      "execution_count": null,
      "outputs": [
        {
          "output_type": "execute_result",
          "data": {
            "text/html": [
              "<div>\n",
              "<style scoped>\n",
              "    .dataframe tbody tr th:only-of-type {\n",
              "        vertical-align: middle;\n",
              "    }\n",
              "\n",
              "    .dataframe tbody tr th {\n",
              "        vertical-align: top;\n",
              "    }\n",
              "\n",
              "    .dataframe thead th {\n",
              "        text-align: right;\n",
              "    }\n",
              "</style>\n",
              "<table border=\"1\" class=\"dataframe\">\n",
              "  <thead>\n",
              "    <tr style=\"text-align: right;\">\n",
              "      <th></th>\n",
              "      <th>DBSCAN_size</th>\n",
              "    </tr>\n",
              "    <tr>\n",
              "      <th>Cluster</th>\n",
              "      <th></th>\n",
              "    </tr>\n",
              "  </thead>\n",
              "  <tbody>\n",
              "    <tr>\n",
              "      <th>-1</th>\n",
              "      <td>18</td>\n",
              "    </tr>\n",
              "    <tr>\n",
              "      <th>0</th>\n",
              "      <td>112</td>\n",
              "    </tr>\n",
              "    <tr>\n",
              "      <th>1</th>\n",
              "      <td>8</td>\n",
              "    </tr>\n",
              "    <tr>\n",
              "      <th>2</th>\n",
              "      <td>34</td>\n",
              "    </tr>\n",
              "    <tr>\n",
              "      <th>3</th>\n",
              "      <td>24</td>\n",
              "    </tr>\n",
              "    <tr>\n",
              "      <th>4</th>\n",
              "      <td>4</td>\n",
              "    </tr>\n",
              "  </tbody>\n",
              "</table>\n",
              "</div>"
            ],
            "text/plain": [
              "         DBSCAN_size\n",
              "Cluster             \n",
              "-1                18\n",
              " 0               112\n",
              " 1                 8\n",
              " 2                34\n",
              " 3                24\n",
              " 4                 4"
            ]
          },
          "metadata": {},
          "execution_count": 38
        }
      ]
    },
    {
      "cell_type": "code",
      "metadata": {
        "colab": {
          "base_uri": "https://localhost:8080/",
          "height": 427
        },
        "id": "igPsmsrhYzAf",
        "outputId": "7e67ad97-378f-4eb2-bd28-8850ee603f6a"
      },
      "source": [
        "outliers = DBSCAN_clustered[DBSCAN_clustered['Cluster']==-1]\n",
        "\n",
        "fig2, (axes) = plt.subplots(1,2,figsize=(12,5))\n",
        "\n",
        "\n",
        "sns.scatterplot('Annual Income (k$)', 'Spending Score (1-100)',\n",
        "                data=DBSCAN_clustered[DBSCAN_clustered['Cluster']!=-1],\n",
        "                hue='Cluster', ax=axes[0], palette='Set1', legend='full', s=45)\n",
        "\n",
        "sns.scatterplot('Age', 'Spending Score (1-100)',\n",
        "                data=DBSCAN_clustered[DBSCAN_clustered['Cluster']!=-1],\n",
        "                hue='Cluster', palette='Set1', ax=axes[1], legend='full', s=45)\n",
        "\n",
        "axes[0].scatter(outliers['Annual Income (k$)'], outliers['Spending Score (1-100)'], s=5, label='outliers', c=\"k\")\n",
        "axes[1].scatter(outliers['Age'], outliers['Spending Score (1-100)'], s=5, label='outliers', c=\"k\")\n",
        "axes[0].legend()\n",
        "axes[1].legend()\n",
        "\n",
        "plt.setp(axes[0].get_legend().get_texts(), fontsize='10')\n",
        "plt.setp(axes[1].get_legend().get_texts(), fontsize='10')\n",
        "\n",
        "plt.show()"
      ],
      "execution_count": null,
      "outputs": [
        {
          "output_type": "stream",
          "name": "stderr",
          "text": [
            "/usr/local/lib/python3.7/dist-packages/seaborn/_decorators.py:43: FutureWarning: Pass the following variables as keyword args: x, y. From version 0.12, the only valid positional argument will be `data`, and passing other arguments without an explicit keyword will result in an error or misinterpretation.\n",
            "  FutureWarning\n",
            "/usr/local/lib/python3.7/dist-packages/seaborn/_decorators.py:43: FutureWarning: Pass the following variables as keyword args: x, y. From version 0.12, the only valid positional argument will be `data`, and passing other arguments without an explicit keyword will result in an error or misinterpretation.\n",
            "  FutureWarning\n"
          ]
        },
        {
          "output_type": "display_data",
          "data": {
            "image/png": "[encoded data removed]",
            "text/plain": [
              "<Figure size 864x360 with 2 Axes>"
            ]
          },
          "metadata": {}
        }
      ]
    }
  ]
}