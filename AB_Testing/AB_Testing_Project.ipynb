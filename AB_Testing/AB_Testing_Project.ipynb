{
  "nbformat": 4,
  "nbformat_minor": 0,
  "metadata": {
    "colab": {
      "name": "Gigih_Project _ab testing",
      "provenance": [],
      "collapsed_sections": []
    },
    "kernelspec": {
      "name": "python3",
      "display_name": "Python 3"
    },
    "language_info": {
      "name": "python"
    }
  },
  "cells": [
    {
      "cell_type": "code",
      "execution_count": null,
      "metadata": {
        "id": "JvDxpx6MT_hj"
      },
      "outputs": [],
      "source": [
        "import numpy as np\n",
        "import pandas as pd\n",
        "import scipy.stats as stats\n",
        "import statsmodels.stats.api as sms\n",
        "import matplotlib as mpl\n",
        "import matplotlib.pyplot as plt\n",
        "import seaborn as sns\n",
        "from math import ceil\n",
        "\n",
        "import math\n",
        "import scipy.stats as st\n",
        "\n",
        "%matplotlib inline\n",
        "\n",
        "plt.style.use('seaborn-whitegrid')\n",
        "font = {'family' : 'Helvetica',\n",
        "        'weight' : 'bold',\n",
        "        'size'   : 14}\n",
        "\n",
        "mpl.rc('font', **font)"
      ]
    },
    {
      "cell_type": "code",
      "source": [
        "data = pd.read_csv('https://raw.githubusercontent.com/wandakinasih/gg2/main/ab_data.csv')\n",
        "data['date'] = pd.to_datetime(data['timestamp']).dt.date\n",
        "data = data.reindex(columns=['user_id','date', 'group','landing_page','converted'])\n",
        "data.head()"
      ],
      "metadata": {
        "colab": {
          "base_uri": "https://localhost:8080/",
          "height": 206
        },
        "id": "pXr_8pZeUEV0",
        "outputId": "c999b909-abd1-4366-d5ba-3090814a4716"
      },
      "execution_count": null,
      "outputs": [
        {
          "output_type": "execute_result",
          "data": {
            "text/plain": [
              "   user_id        date      group landing_page  converted\n",
              "0   851104  2017-01-21    control     old_page          0\n",
              "1   804228  2017-01-12    control     old_page          0\n",
              "2   661590  2017-01-11  treatment     new_page          0\n",
              "3   853541  2017-01-08  treatment     new_page          0\n",
              "4   864975  2017-01-21    control     old_page          1"
            ],
            "text/html": [
              "\n",
              "  <div id=\"df-f578580b-ce04-410c-8338-e99490eb6309\">\n",
              "    <div class=\"colab-df-container\">\n",
              "      <div>\n",
              "<style scoped>\n",
              "    .dataframe tbody tr th:only-of-type {\n",
              "        vertical-align: middle;\n",
              "    }\n",
              "\n",
              "    .dataframe tbody tr th {\n",
              "        vertical-align: top;\n",
              "    }\n",
              "\n",
              "    .dataframe thead th {\n",
              "        text-align: right;\n",
              "    }\n",
              "</style>\n",
              "<table border=\"1\" class=\"dataframe\">\n",
              "  <thead>\n",
              "    <tr style=\"text-align: right;\">\n",
              "      <th></th>\n",
              "      <th>user_id</th>\n",
              "      <th>date</th>\n",
              "      <th>group</th>\n",
              "      <th>landing_page</th>\n",
              "      <th>converted</th>\n",
              "    </tr>\n",
              "  </thead>\n",
              "  <tbody>\n",
              "    <tr>\n",
              "      <th>0</th>\n",
              "      <td>851104</td>\n",
              "      <td>2017-01-21</td>\n",
              "      <td>control</td>\n",
              "      <td>old_page</td>\n",
              "      <td>0</td>\n",
              "    </tr>\n",
              "    <tr>\n",
              "      <th>1</th>\n",
              "      <td>804228</td>\n",
              "      <td>2017-01-12</td>\n",
              "      <td>control</td>\n",
              "      <td>old_page</td>\n",
              "      <td>0</td>\n",
              "    </tr>\n",
              "    <tr>\n",
              "      <th>2</th>\n",
              "      <td>661590</td>\n",
              "      <td>2017-01-11</td>\n",
              "      <td>treatment</td>\n",
              "      <td>new_page</td>\n",
              "      <td>0</td>\n",
              "    </tr>\n",
              "    <tr>\n",
              "      <th>3</th>\n",
              "      <td>853541</td>\n",
              "      <td>2017-01-08</td>\n",
              "      <td>treatment</td>\n",
              "      <td>new_page</td>\n",
              "      <td>0</td>\n",
              "    </tr>\n",
              "    <tr>\n",
              "      <th>4</th>\n",
              "      <td>864975</td>\n",
              "      <td>2017-01-21</td>\n",
              "      <td>control</td>\n",
              "      <td>old_page</td>\n",
              "      <td>1</td>\n",
              "    </tr>\n",
              "  </tbody>\n",
              "</table>\n",
              "</div>\n",
              "      <button class=\"colab-df-convert\" onclick=\"convertToInteractive('df-f578580b-ce04-410c-8338-e99490eb6309')\"\n",
              "              title=\"Convert this dataframe to an interactive table.\"\n",
              "              style=\"display:none;\">\n",
              "        \n",
              "  <svg xmlns=\"http://www.w3.org/2000/svg\" height=\"24px\"viewBox=\"0 0 24 24\"\n",
              "       width=\"24px\">\n",
              "    <path d=\"M0 0h24v24H0V0z\" fill=\"none\"/>\n",
              "    <path d=\"M18.56 5.44l.94 2.06.94-2.06 2.06-.94-2.06-.94-.94-2.06-.94 2.06-2.06.94zm-11 1L8.5 8.5l.94-2.06 2.06-.94-2.06-.94L8.5 2.5l-.94 2.06-2.06.94zm10 10l.94 2.06.94-2.06 2.06-.94-2.06-.94-.94-2.06-.94 2.06-2.06.94z\"/><path d=\"M17.41 7.96l-1.37-1.37c-.4-.4-.92-.59-1.43-.59-.52 0-1.04.2-1.43.59L10.3 9.45l-7.72 7.72c-.78.78-.78 2.05 0 2.83L4 21.41c.39.39.9.59 1.41.59.51 0 1.02-.2 1.41-.59l7.78-7.78 2.81-2.81c.8-.78.8-2.07 0-2.86zM5.41 20L4 18.59l7.72-7.72 1.47 1.35L5.41 20z\"/>\n",
              "  </svg>\n",
              "      </button>\n",
              "      \n",
              "  <style>\n",
              "    .colab-df-container {\n",
              "      display:flex;\n",
              "      flex-wrap:wrap;\n",
              "      gap: 12px;\n",
              "    }\n",
              "\n",
              "    .colab-df-convert {\n",
              "      background-color: #E8F0FE;\n",
              "      border: none;\n",
              "      border-radius: 50%;\n",
              "      cursor: pointer;\n",
              "      display: none;\n",
              "      fill: #1967D2;\n",
              "      height: 32px;\n",
              "      padding: 0 0 0 0;\n",
              "      width: 32px;\n",
              "    }\n",
              "\n",
              "    .colab-df-convert:hover {\n",
              "      background-color: #E2EBFA;\n",
              "      box-shadow: 0px 1px 2px rgba(60, 64, 67, 0.3), 0px 1px 3px 1px rgba(60, 64, 67, 0.15);\n",
              "      fill: #174EA6;\n",
              "    }\n",
              "\n",
              "    [theme=dark] .colab-df-convert {\n",
              "      background-color: #3B4455;\n",
              "      fill: #D2E3FC;\n",
              "    }\n",
              "\n",
              "    [theme=dark] .colab-df-convert:hover {\n",
              "      background-color: #434B5C;\n",
              "      box-shadow: 0px 1px 3px 1px rgba(0, 0, 0, 0.15);\n",
              "      filter: drop-shadow(0px 1px 2px rgba(0, 0, 0, 0.3));\n",
              "      fill: #FFFFFF;\n",
              "    }\n",
              "  </style>\n",
              "\n",
              "      <script>\n",
              "        const buttonEl =\n",
              "          document.querySelector('#df-f578580b-ce04-410c-8338-e99490eb6309 button.colab-df-convert');\n",
              "        buttonEl.style.display =\n",
              "          google.colab.kernel.accessAllowed ? 'block' : 'none';\n",
              "\n",
              "        async function convertToInteractive(key) {\n",
              "          const element = document.querySelector('#df-f578580b-ce04-410c-8338-e99490eb6309');\n",
              "          const dataTable =\n",
              "            await google.colab.kernel.invokeFunction('convertToInteractive',\n",
              "                                                     [key], {});\n",
              "          if (!dataTable) return;\n",
              "\n",
              "          const docLinkHtml = 'Like what you see? Visit the ' +\n",
              "            '<a target=\"_blank\" href=https://colab.research.google.com/notebooks/data_table.ipynb>data table notebook</a>'\n",
              "            + ' to learn more about interactive tables.';\n",
              "          element.innerHTML = '';\n",
              "          dataTable['output_type'] = 'display_data';\n",
              "          await google.colab.output.renderOutput(dataTable, element);\n",
              "          const docLink = document.createElement('div');\n",
              "          docLink.innerHTML = docLinkHtml;\n",
              "          element.appendChild(docLink);\n",
              "        }\n",
              "      </script>\n",
              "    </div>\n",
              "  </div>\n",
              "  "
            ]
          },
          "metadata": {},
          "execution_count": 3
        }
      ]
    },
    {
      "cell_type": "markdown",
      "source": [
        "##**A/B Test**"
      ],
      "metadata": {
        "id": "rfOcdgmFtqx3"
      }
    },
    {
      "cell_type": "code",
      "source": [
        "data['group'].value_counts()"
      ],
      "metadata": {
        "colab": {
          "base_uri": "https://localhost:8080/"
        },
        "id": "iZvGmD8MEx4E",
        "outputId": "dcf31735-e22f-47b8-d752-9079239ed731"
      },
      "execution_count": null,
      "outputs": [
        {
          "output_type": "execute_result",
          "data": {
            "text/plain": [
              "treatment    147276\n",
              "control      147202\n",
              "Name: group, dtype: int64"
            ]
          },
          "metadata": {},
          "execution_count": 4
        }
      ]
    },
    {
      "cell_type": "code",
      "source": [
        "from statsmodels.stats.proportion import proportions_ztest, proportion_confint\n",
        "control_results = data[data['group'] == 'control']['converted']\n",
        "treatment_results = data[data['group'] == 'treatment']['converted']\n",
        "n_con = control_results.count()\n",
        "n_treat = treatment_results.count()\n",
        "successes = [control_results.sum(), treatment_results.sum()]\n",
        "nobs = [n_con, n_treat]\n",
        "\n",
        "z_stat, pval = proportions_ztest(successes, nobs=nobs)\n",
        "(lower_con, lower_treat), (upper_con, upper_treat) = proportion_confint(successes, nobs=nobs, alpha=0.05)\n",
        "\n",
        "print(f'z statistic: {z_stat:.4f}')\n",
        "print(f'p-value: {pval:.4f}')\n",
        "print(f'ci 95% for control group: [{lower_con:.3f}, {upper_con:.4f}]')\n",
        "print(f'ci 95% for treatment group: [{lower_treat:.3f}, {upper_treat:.4f}]')"
      ],
      "metadata": {
        "colab": {
          "base_uri": "https://localhost:8080/"
        },
        "id": "ivevdkwGybEt",
        "outputId": "8e8a60e8-63bb-4e75-c784-a2b95c4dfc7c"
      },
      "execution_count": null,
      "outputs": [
        {
          "output_type": "stream",
          "name": "stdout",
          "text": [
            "z statistic: 1.2369\n",
            "p-value: 0.2161\n",
            "ci 95% for control group: [0.119, 0.1221]\n",
            "ci 95% for treatment group: [0.117, 0.1206]\n"
          ]
        }
      ]
    },
    {
      "cell_type": "code",
      "source": [
        "successes"
      ],
      "metadata": {
        "colab": {
          "base_uri": "https://localhost:8080/"
        },
        "id": "OyrrH7vViW-z",
        "outputId": "975a1373-00fa-41cf-96b8-4d191ce8c7e4"
      },
      "execution_count": null,
      "outputs": [
        {
          "output_type": "execute_result",
          "data": {
            "text/plain": [
              "[17723, 17514]"
            ]
          },
          "metadata": {},
          "execution_count": 7
        }
      ]
    },
    {
      "cell_type": "code",
      "source": [
        "nobs"
      ],
      "metadata": {
        "id": "9aA08U3PLgV5",
        "outputId": "61ffb6ff-ac44-4eb5-b4de-98cf60e191a0",
        "colab": {
          "base_uri": "https://localhost:8080/"
        }
      },
      "execution_count": null,
      "outputs": [
        {
          "output_type": "execute_result",
          "data": {
            "text/plain": [
              "[147202, 147276]"
            ]
          },
          "metadata": {},
          "execution_count": 8
        }
      ]
    },
    {
      "cell_type": "markdown",
      "source": [
        "##**Conclusion**\n",
        "- p value = 0.219 > 0.05 ==> can't reject null hypothesis H0, which means that new design didn't perform significantly different (let alone better) than our old one\n",
        "\n",
        "- confidence interval for treatment grop = [0.117, 0.127] atau [11.7%,12.7%]\n",
        "includes baseline value of 12.03% conversion rate but doesn't include target value of 13.03%\n",
        "\n",
        "- What this means is that it is more likely that the true conversion rate of the new design is similar to our baseline, rather than the 13.03% target we had hoped for. This is further proof that our new design is not likely to be an improvement on our old design"
      ],
      "metadata": {
        "id": "WS0gV9KzY1U5"
      }
    },
    {
      "cell_type": "code",
      "source": [
        "import numpy as np\n",
        "from scipy.stats import norm\n",
        "\n",
        "X_con = 17723 \n",
        "N_con = 147202 \n",
        "X_exp = 17514 \n",
        "N_exp = 147276 \n",
        "\n",
        "# Significance Level\n",
        "alpha = 0.05\n",
        "\n",
        "p_con_hat = X_con / N_con\n",
        "p_exp_hat = X_exp / N_exp\n",
        "\n",
        "p_pooled_hat = (X_con + X_exp)/(N_con + N_exp)\n",
        "pooled_variance = p_pooled_hat*(1-p_pooled_hat) * (1/N_con + 1/N_exp)\n",
        "\n",
        "# Standard Error\n",
        "SE = np.sqrt(pooled_variance)\n",
        "\n",
        "# test statsitics\n",
        "Test_stat = (p_con_hat - p_exp_hat)/SE\n",
        "# critical value usig the standard normal distribution\n",
        "Z_crit = norm.ppf(1-alpha/2)\n",
        "\n",
        "# Margin of error\n",
        "m = SE * Z_crit\n",
        "# two sided test and using symmetry property of Normal distibution so we multiple with 2\n",
        "p_value = norm.sf(Test_stat)*2\n",
        "\n",
        "# Confidence Interval\n",
        "CI = [(p_con_hat-p_exp_hat) - SE * Z_crit, (p_con_hat-p_exp_hat) + SE * Z_crit]\n",
        "\n",
        "if np.abs(Test_stat) >= Z_crit:\n",
        "    print(\"reject the null\")\n",
        "    print(p_value)\n",
        "\n",
        "print(\"Test Statistics stat: \", Test_stat)\n",
        "print(\"Z-critical: \", Z_crit)\n",
        "print(\"P_value: \", p_value)\n",
        "print(\"Confidence Interval of 2 sample Z-test for proportions: \", np.round(CI,2))"
      ],
      "metadata": {
        "id": "Vvl5EjAFQ8aB",
        "outputId": "88190053-5196-416c-907c-201200b6ef71",
        "colab": {
          "base_uri": "https://localhost:8080/"
        }
      },
      "execution_count": null,
      "outputs": [
        {
          "output_type": "stream",
          "name": "stdout",
          "text": [
            "Test Statistics stat:  1.2369217547321678\n",
            "Z-critical:  1.959963984540054\n",
            "P_value:  0.21611613269757501\n",
            "Confidence Interval of 2 sample Z-test for proportions:  [-0.  0.]\n"
          ]
        }
      ]
    },
    {
      "cell_type": "code",
      "source": [
        "print(p_con_hat)\n",
        "print(p_exp_hat)\n",
        "print(p_pooled_hat)\n",
        "print(pooled_variance)\n",
        "print(SE)"
      ],
      "metadata": {
        "id": "Rq3fpdAdaBZl",
        "outputId": "7e48d419-badb-457f-a3a2-3355ee1c33f9",
        "colab": {
          "base_uri": "https://localhost:8080/"
        }
      },
      "execution_count": null,
      "outputs": [
        {
          "output_type": "stream",
          "name": "stdout",
          "text": [
            "0.12039917935897611\n",
            "0.11891957956489856\n",
            "0.11965919355605512\n",
            "1.4308828178078735e-06\n",
            "0.0011961951420265313\n"
          ]
        }
      ]
    },
    {
      "cell_type": "code",
      "source": [
        "import matplotlib.pyplot as plt\n",
        "z = np.arange(-3,3,  0.1)\n",
        "\n",
        "\n",
        "plt.figure(figsize=(8,5))\n",
        "plt.plot(z, norm.pdf(z), label = 'Standard Normal Distribution',color = 'purple',linewidth = 2.5)\n",
        "plt.fill_between(z[z>Z_crit], norm.pdf(z[z>Z_crit]), label = 'Right Rejection Region',color ='y' )\n",
        "plt.fill_between(z[z<(-1)*Z_crit], norm.pdf(z[z<(-1)*Z_crit]), label = 'Left Rejection Region',color ='y' )\n",
        "plt.title(\"Two Sample Z-test rejection region\")\n",
        "plt.legend(loc=2, fontsize=10)"
      ],
      "metadata": {
        "id": "At11hwP7SaYA",
        "outputId": "5ff29faf-9a55-42eb-b94a-922cc7baf0c6",
        "colab": {
          "base_uri": "https://localhost:8080/",
          "height": 392
        }
      },
      "execution_count": null,
      "outputs": [
        {
          "output_type": "execute_result",
          "data": {
            "text/plain": [
              "<matplotlib.legend.Legend at 0x7f385a1e4bd0>"
            ]
          },
          "metadata": {},
          "execution_count": 11
        },
        {
          "output_type": "stream",
          "name": "stderr",
          "text": [
            "findfont: Font family ['Helvetica'] not found. Falling back to DejaVu Sans.\n",
            "findfont: Font family ['Helvetica'] not found. Falling back to DejaVu Sans.\n",
            "findfont: Font family ['Helvetica'] not found. Falling back to DejaVu Sans.\n"
          ]
        },
        {
          "output_type": "display_data",
          "data": {
            "text/plain": [
              "<Figure size 576x360 with 1 Axes>"
            ],
            "image/png": "[encoded data removed]"
          },
          "metadata": {}
        }
      ]
    },
    {
      "cell_type": "code",
      "source": [
        ""
      ],
      "metadata": {
        "id": "FkWdsG6BQ90w"
      },
      "execution_count": null,
      "outputs": []
    }
  ]
}